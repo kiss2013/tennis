{
 "cells": [
  {
   "cell_type": "code",
   "execution_count": null,
   "metadata": {},
   "outputs": [],
   "source": []
  },
  {
   "cell_type": "code",
   "execution_count": null,
   "metadata": {},
   "outputs": [],
   "source": []
  },
  {
   "cell_type": "markdown",
   "metadata": {},
   "source": [
    "[Biomechanics References on Tennis Strokes](https://tt.tennis-warehouse.com/index.php?threads/biomechanics-references-on-tennis-strokes.427364/\n",
    ")\n",
    "<br/>[Biomechanics & Technique](https://en.coaching.itftennis.com/courses/high-performance/presentations/biomechanics-technique.aspx)\n",
    "Click the PDF links below to view Powerpoint presentations relating to 'Biomechanics & Technique'.\n",
    "<br/>[Biomechanics and tennis](https://bjsm.bmj.com/content/40/5/392.full)\n",
    "<br/>[]()\n",
    "<br/>[]()\n",
    "<br/>[]()\n",
    "<br/>[]()"
   ]
  }
 ],
 "metadata": {
  "kernelspec": {
   "display_name": "Python 3",
   "language": "python",
   "name": "python3"
  },
  "language_info": {
   "codemirror_mode": {
    "name": "ipython",
    "version": 3
   },
   "file_extension": ".py",
   "mimetype": "text/x-python",
   "name": "python",
   "nbconvert_exporter": "python",
   "pygments_lexer": "ipython3",
   "version": "3.6.5"
  }
 },
 "nbformat": 4,
 "nbformat_minor": 2
}
