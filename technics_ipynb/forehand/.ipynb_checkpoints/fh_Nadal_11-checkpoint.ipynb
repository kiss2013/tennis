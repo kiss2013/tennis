{
 "cells": [
  {
   "cell_type": "markdown",
   "metadata": {},
   "source": [
    "###Форхенд Надаля"
   ]
  },
  {
   "cell_type": "markdown",
   "metadata": {},
   "source": [
    "Полная анимация. Движение до точки касания. И еще семь фрагментов."
   ]
  },
  {
   "cell_type": "code",
   "execution_count": null,
   "metadata": {},
   "outputs": [],
   "source": [
    "[]()\n",
    "[]()\n",
    "[]()\n",
    "[]()"
   ]
  },
  {
   "cell_type": "code",
   "execution_count": null,
   "metadata": {
    "tags": [
     "help"
    ]
   },
   "outputs": [],
   "source": [
    "!jupyter nbconvert --to html serve_Williams.ipynb --output ../technics_html/serve_Williams --template=../_scripts_help/input_group_chinese_help.tpl"
   ]
  },
  {
   "cell_type": "code",
   "execution_count": 8,
   "metadata": {},
   "outputs": [
    {
     "data": {
      "text/html": [
       "<div class=\"flex-container flexframe\" >\n",
       "  <div class=\"iframe_div iframe_grow\">\n",
       "     \n",
       "     <video width=\"400\" controls>\n",
       "       <source src=\"../../technics_video/forehand/Nadal_1/5.mp4\" type=\"video/mp4\">\n",
       "     </video>\n",
       "   \n",
       "  </div>\n",
       "\n",
       "</div>"
      ],
      "text/plain": [
       "<IPython.core.display.HTML object>"
      ]
     },
     "metadata": {},
     "output_type": "display_data"
    }
   ],
   "source": [
    "%%html\n",
    "<div class=\"flex-container flexframe\" >\n",
    "  <div class=\"iframe_div iframe_grow\">\n",
    "     \n",
    "     <video width=\"400\" controls>\n",
    "       <source src=\"../../technics_video/forehand/Nadal_1/5.mp4\" type=\"video/mp4\">\n",
    "     </video>\n",
    "   \n",
    "  </div>\n",
    "\n",
    "</div>"
   ]
  },
  {
   "cell_type": "code",
   "execution_count": 6,
   "metadata": {},
   "outputs": [
    {
     "data": {
      "text/html": [
       "<div class=\"flex-container flexframe\" >\n",
       " \n",
       "    <div class=\"iframe_div iframe_grow\">\n",
       "    <img src=\"../../technics_gif/forehand/Nadal_1/5/all_60.gif\" style=\"width:100%\">\n",
       "    </div>\n",
       "    <div class=\"iframe_div iframe_grow\">\n",
       "    <img src=\"../../technics_gif/forehand/Nadal_1/5/100.gif\" style=\"width:100%\">\n",
       "    </div>\n",
       "    \n",
       "  <div  class=\"audio_div\">\n",
       "     <span class=\"audio\" >\n",
       "       <audio controls=\"\"><source src=\"../technics_mp3/forehand/Nadal_1/0.mp3\" type=\"audio/mpeg\">Your browser does not support the audio tag. </audio>\n",
       "            </span>\n",
       "  </div>\n",
       "  \n",
       " \n",
       "</div>"
      ],
      "text/plain": [
       "<IPython.core.display.HTML object>"
      ]
     },
     "metadata": {},
     "output_type": "display_data"
    }
   ],
   "source": [
    "%%html\n",
    "<div class=\"flex-container flexframe\" >\n",
    " \n",
    "    <div class=\"iframe_div iframe_grow\">\n",
    "    <img src=\"../../technics_gif/forehand/Nadal_1/5/all_60.gif\" style=\"width:100%\">\n",
    "    </div>\n",
    "    <div class=\"iframe_div iframe_grow\">\n",
    "    <img src=\"../../technics_gif/forehand/Nadal_1/5/100.gif\" style=\"width:100%\">\n",
    "    </div>\n",
    "    \n",
    "  <div  class=\"audio_div\">\n",
    "     <span class=\"audio\" >\n",
    "       <audio controls=\"\"><source src=\"../technics_mp3/forehand/Nadal_1/0.mp3\" type=\"audio/mpeg\">Your browser does not support the audio tag. </audio>\n",
    "            </span>\n",
    "  </div>\n",
    "  \n",
    " \n",
    "</div>"
   ]
  },
  {
   "cell_type": "code",
   "execution_count": 3,
   "metadata": {
    "scrolled": true
   },
   "outputs": [
    {
     "data": {
      "text/html": [
       "<div class=\"flex-container flexframe\" >\n",
       "  <div class=\"iframe_div iframe_grow\">\n",
       "     <img src=\"../../technics_gif/forehand/Nadal_1/5/1_loop.gif\" style=\"width:100%\">\n",
       "  </div>\n",
       "    <div class=\"iframe_div iframe_grow\">\n",
       "    <img src=\"../../technics_gif/forehand/Nadal_1/5/2_loop.gif\" style=\"width:100%\">\n",
       "    </div>\n",
       "    <div class=\"iframe_div iframe_grow\">\n",
       "    <img src=\"../../technics_gif/forehand/Nadal_1/5/3_loop.gif\" style=\"width:100%\">\n",
       "    </div>\n",
       "    <div class=\"iframe_div iframe_grow\">\n",
       "    <img src=\"../../technics_gif/forehand/Nadal_1/5/4_loop.gif\" style=\"width:100%\">\n",
       "    </div>\n",
       "  <div  class=\"audio_div\">\n",
       "     <span class=\"audio\" >\n",
       "       <audio controls=\"\"><source src=\"../technics_mp3/forehand/Nadal_1/1.mp3\" type=\"audio/mpeg\">Your browser does not support the audio tag. </audio>\n",
       "            </span>\n",
       "  </div>\n",
       "  \n",
       " \n",
       "</div>"
      ],
      "text/plain": [
       "<IPython.core.display.HTML object>"
      ]
     },
     "metadata": {},
     "output_type": "display_data"
    }
   ],
   "source": [
    "%%html\n",
    "<div class=\"flex-container flexframe\" >\n",
    "  <div class=\"iframe_div iframe_grow\">\n",
    "     <img src=\"../../technics_gif/forehand/Nadal_1/5/1_loop.gif\" style=\"width:100%\">\n",
    "  </div>\n",
    "    <div class=\"iframe_div iframe_grow\">\n",
    "    <img src=\"../../technics_gif/forehand/Nadal_1/5/2_loop.gif\" style=\"width:100%\">\n",
    "    </div>\n",
    "    <div class=\"iframe_div iframe_grow\">\n",
    "    <img src=\"../../technics_gif/forehand/Nadal_1/5/3_loop.gif\" style=\"width:100%\">\n",
    "    </div>\n",
    "    <div class=\"iframe_div iframe_grow\">\n",
    "    <img src=\"../../technics_gif/forehand/Nadal_1/5/4_loop.gif\" style=\"width:100%\">\n",
    "    </div>\n",
    "  <div  class=\"audio_div\">\n",
    "     <span class=\"audio\" >\n",
    "       <audio controls=\"\"><source src=\"../technics_mp3/forehand/Nadal_1/1.mp3\" type=\"audio/mpeg\">Your browser does not support the audio tag. </audio>\n",
    "            </span>\n",
    "  </div>\n",
    "  \n",
    " \n",
    "</div>"
   ]
  },
  {
   "cell_type": "code",
   "execution_count": null,
   "metadata": {},
   "outputs": [],
   "source": []
  },
  {
   "cell_type": "code",
   "execution_count": 5,
   "metadata": {},
   "outputs": [
    {
     "data": {
      "text/html": [
       "<div class=\"flex-container flexframe\" >\n",
       " \n",
       "    <div class=\"iframe_div iframe_grow\">\n",
       "    <img src=\"../../technics_gif/forehand/Nadal_1/5/5_loop.gif\" style=\"width:100%\">\n",
       "    </div>\n",
       "    <div class=\"iframe_div iframe_grow\">\n",
       "    <img src=\"../../technics_gif/forehand/Nadal_1/5/6_loop.gif\" style=\"width:100%\">\n",
       "    </div>\n",
       "    <div class=\"iframe_div iframe_grow\">\n",
       "    <img src=\"../../technics_gif/forehand/Nadal_1/5/7_loop.gif\" style=\"width:100%\">\n",
       "    </div>\n",
       "  <div  class=\"audio_div\">\n",
       "     <span class=\"audio\" >\n",
       "       <audio controls=\"\"><source src=\"../technics_mp3/forehand/Nadal_1/2.mp3\" type=\"audio/mpeg\">Your browser does not support the audio tag. </audio>\n",
       "            </span>\n",
       "  </div>\n",
       "  \n",
       " \n",
       "</div>"
      ],
      "text/plain": [
       "<IPython.core.display.HTML object>"
      ]
     },
     "metadata": {},
     "output_type": "display_data"
    }
   ],
   "source": [
    "%%html\n",
    "<div class=\"flex-container flexframe\" >\n",
    " \n",
    "    <div class=\"iframe_div iframe_grow\">\n",
    "    <img src=\"../../technics_gif/forehand/Nadal_1/5/5_loop.gif\" style=\"width:100%\">\n",
    "    </div>\n",
    "    <div class=\"iframe_div iframe_grow\">\n",
    "    <img src=\"../../technics_gif/forehand/Nadal_1/5/6_loop.gif\" style=\"width:100%\">\n",
    "    </div>\n",
    "    <div class=\"iframe_div iframe_grow\">\n",
    "    <img src=\"../../technics_gif/forehand/Nadal_1/5/7_loop.gif\" style=\"width:100%\">\n",
    "    </div>\n",
    "  <div  class=\"audio_div\">\n",
    "     <span class=\"audio\" >\n",
    "       <audio controls=\"\"><source src=\"../technics_mp3/forehand/Nadal_1/2.mp3\" type=\"audio/mpeg\">Your browser does not support the audio tag. </audio>\n",
    "            </span>\n",
    "  </div>\n",
    "  \n",
    " \n",
    "</div>"
   ]
  },
  {
   "cell_type": "code",
   "execution_count": 2,
   "metadata": {
    "tags": [
     "help"
    ]
   },
   "outputs": [
    {
     "data": {
      "text/html": [
       "<style>\n",
       ".flex-container {\n",
       "  display: flex;\n",
       "  align-items: stretch;\n",
       "  flex-wrap: wrap;\n",
       "}\n",
       ".flexframe {\n",
       "    align-items: center; \n",
       "    justify-content: center;\n",
       "    text-align: center;\n",
       "}\n",
       ".iframe_div{\n",
       "    width:400px; \n",
       "    margin: 10px;\n",
       "    padding: 8px;\n",
       "    box-shadow: 0 4px 8px 0 rgba(0, 0, 0, 0.2), 0 6px 20px 0 rgba(0, 0, 0, 0.19);\n",
       "    border: 1px solid #c1c2c3;\n",
       "}\n",
       ".iframe_grow{\n",
       "    flex-grow: 8; \n",
       "}\n",
       ".audio_div{\n",
       "    width:300px;   \n",
       "    align-self: center;\n",
       "    margin: 10px;\n",
       "}\n",
       "video {\n",
       "    width: 100%;\n",
       "    height: auto;\n",
       "}\n",
       "</style>\n",
       "</style>"
      ],
      "text/plain": [
       "<IPython.core.display.HTML object>"
      ]
     },
     "metadata": {},
     "output_type": "display_data"
    }
   ],
   "source": [
    "%%HTML\n",
    "<style>\n",
    ".flex-container {\n",
    "  display: flex;\n",
    "  align-items: stretch;\n",
    "  flex-wrap: wrap;\n",
    "}\n",
    ".flexframe {\n",
    "    align-items: center; \n",
    "    justify-content: center;\n",
    "    text-align: center;\n",
    "}\n",
    ".iframe_div{\n",
    "    width:400px; \n",
    "    margin: 10px;\n",
    "    padding: 8px;\n",
    "    box-shadow: 0 4px 8px 0 rgba(0, 0, 0, 0.2), 0 6px 20px 0 rgba(0, 0, 0, 0.19);\n",
    "    border: 1px solid #c1c2c3;\n",
    "}\n",
    ".iframe_grow{\n",
    "    flex-grow: 8; \n",
    "}\n",
    ".audio_div{\n",
    "    width:300px;   \n",
    "    align-self: center;\n",
    "    margin: 10px;\n",
    "}\n",
    "video {\n",
    "    width: 100%;\n",
    "    height: auto;\n",
    "}\n",
    "</style>\n",
    "</style>"
   ]
  }
 ],
 "metadata": {
  "celltoolbar": "Tags",
  "kernelspec": {
   "display_name": "Python 3",
   "language": "python",
   "name": "python3"
  },
  "language_info": {
   "codemirror_mode": {
    "name": "ipython",
    "version": 3
   },
   "file_extension": ".py",
   "mimetype": "text/x-python",
   "name": "python",
   "nbconvert_exporter": "python",
   "pygments_lexer": "ipython3",
   "version": "3.6.5"
  }
 },
 "nbformat": 4,
 "nbformat_minor": 2
}
