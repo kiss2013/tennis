{
 "cells": [
  {
   "cell_type": "code",
   "execution_count": null,
   "metadata": {},
   "outputs": [],
   "source": []
  },
  {
   "cell_type": "code",
   "execution_count": null,
   "metadata": {},
   "outputs": [],
   "source": []
  },
  {
   "cell_type": "markdown",
   "metadata": {},
   "source": [
    "[Universal-swing](https://www.feeltennis.net/universal-swing/) Tennis Forehand Technique - 18 минут видео прсомотрел не отрываясь. Надо отводить кисть от туловища, а потом перемещать ее назад... \n",
    "<br/>[8 Steps To A Modern Forehand](https://www.feeltennis.net/modern-forehand-technique/)Tennis Forehand Technique 2. Грип с указательным пальцем \"почти вдоль ручки\".\n",
    "<br/>[Slow Motion Tennis](https://www.youtube.com/user/txchou/)\n",
    "<br/>[]()\n",
    "<br/>[]()\n",
    "<br/>[]()\n",
    "<br/>[]()\n",
    "<br/>[]()\n",
    "<br/>[]()\n",
    "<br/>[]()\n",
    "<br/>[]()\n",
    "<br/>[]()\n",
    "<br/>[]()\n",
    "<br/>[]()\n",
    "<br/>[]()\n",
    "<br/>[]()\n",
    "<br/>[]()"
   ]
  }
 ],
 "metadata": {
  "kernelspec": {
   "display_name": "Python 3",
   "language": "python",
   "name": "python3"
  },
  "language_info": {
   "codemirror_mode": {
    "name": "ipython",
    "version": 3
   },
   "file_extension": ".py",
   "mimetype": "text/x-python",
   "name": "python",
   "nbconvert_exporter": "python",
   "pygments_lexer": "ipython3",
   "version": "3.6.5"
  }
 },
 "nbformat": 4,
 "nbformat_minor": 2
}
