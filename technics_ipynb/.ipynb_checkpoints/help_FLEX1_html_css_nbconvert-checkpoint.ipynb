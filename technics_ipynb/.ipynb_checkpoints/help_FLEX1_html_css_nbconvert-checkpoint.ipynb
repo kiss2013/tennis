{
 "cells": [
  {
   "cell_type": "markdown",
   "metadata": {
    "tags": [
     "help"
    ]
   },
   "source": [
    "####Все для работы с мактом FLEX"
   ]
  },
  {
   "cell_type": "markdown",
   "metadata": {
    "tags": [
     "help"
    ]
   },
   "source": [
    "Макет так назван из-за того, что для блоков картинок и фреймов (видео**) используются CSS flex. Здесь весь код вставляется при помощи **%%HTML.\n",
    "\n",
    "Для конвертации (!jupyter nbconvert...) ipynb -> HTML используется шаблон, который перезаписывается из ячейки **%%writefile**\n",
    "\n",
    "Для сокрытия полей в HTML есть JS код и кнопка *Toggle*\n",
    "\n",
    "Все поля этого файла помечены тегом *help*"
   ]
  },
  {
   "cell_type": "code",
   "execution_count": null,
   "metadata": {
    "tags": [
     "help"
    ]
   },
   "outputs": [],
   "source": [
    "#### Это javascript код для блока класса \".chinese\". \n",
    "#    Этот  класс добавляется шаблоне nbconvert для любых ячеек с тегом chinese\n",
    "# Класс кнопки .btn взят из bootstrap. Не забывать про встроеные на страницу стили bootstrap"
   ]
  },
  {
   "cell_type": "code",
   "execution_count": null,
   "metadata": {
    "tags": [
     "help"
    ]
   },
   "outputs": [],
   "source": [
    "%%HTML\n",
    "   <script> $(document).ready(function(){$(\"button.btn\").click(function(){$(\"'+'.chinese' +'\").toggle();});});</script>\n",
    "   <button class=\"btn\">Chinese</button> <span>-  <i>добавить/убрать блоки оригинального текста на китайском языке</i><span>"
   ]
  },
  {
   "cell_type": "markdown",
   "metadata": {
    "tags": [
     "help"
    ]
   },
   "source": [
    "[Baidu 摆速](https://www.baidu.com/baidu?ie=gbk&tn=bds&cl=3&ct=2097152&si=www.pingpangwang.com&word=%B0%DA%CB%D9)\n",
    "\n",
    "[]()\n",
    "[]()\n",
    "[]()\n",
    "[]()\n",
    "[]()"
   ]
  },
  {
   "cell_type": "code",
   "execution_count": null,
   "metadata": {
    "tags": [
     "help"
    ]
   },
   "outputs": [],
   "source": [
    "# Это строка для конвертации файла в HTML с шаблоном  * --template=...* (см. ниже)"
   ]
  },
  {
   "cell_type": "code",
   "execution_count": null,
   "metadata": {
    "tags": [
     "help"
    ]
   },
   "outputs": [],
   "source": [
    "!jupyter nbconvert --to html index.ipynb --template=input_group_chinese.tpl"
   ]
  },
  {
   "cell_type": "code",
   "execution_count": null,
   "metadata": {
    "tags": [
     "help"
    ]
   },
   "outputs": [],
   "source": [
    "%%Writefile nbconvert_help.txt\n",
    "\n",
    "# В любую папку можно конвертировать любой файл и задать новое имя для HTML файла (без расширения .html)\n",
    "!jupyter nbconvert --to html ../ttennis/16_tarabar.ipynb --output ../ttennis/16_tarabar_0 --template=input_group_chinese.tpl\n",
    "\n",
    "# input_group - это входные данные и промпт ячейки кода\n",
    "#Примеры и структура здесь\n",
    "# https://nbconvert.readthedocs.io/en/latest/customizing.html#Template-structure"
   ]
  },
  {
   "cell_type": "code",
   "execution_count": null,
   "metadata": {
    "tags": [
     "help"
    ]
   },
   "outputs": [],
   "source": [
    "# Этот шаблон для конвертации удаляет ячейки кода и добавляет класс *chinese* к блоку **chinese**\n",
    "# Запишите его в текущую папку, либо измените путь * --template=...* в строке !jupyter nbconvert..."
   ]
  },
  {
   "cell_type": "code",
   "execution_count": null,
   "metadata": {
    "tags": [
     "help"
    ]
   },
   "outputs": [],
   "source": [
    "%%writefile input_group_chinese.tpl\n",
    "{% extends 'full.tpl'%}\n",
    "\n",
    "{% block input_group -%}\n",
    "<div class=\"input_0\">\n",
    "</div>\n",
    "{% endblock input_group %}\n",
    "\n",
    "{% block any_cell %}\n",
    "{% if 'chinese' in cell['metadata'].get('tags', []) %}\n",
    "    <div class=\"chinese\" >\n",
    "        {{ super() }}\n",
    "    </div>\n",
    "{% else %}\n",
    "    {{ super() }}\n",
    "{% endif %}\n",
    "{% endblock any_cell %}"
   ]
  },
  {
   "cell_type": "markdown",
   "metadata": {
    "tags": [
     "help"
    ]
   },
   "source": [
    "Шаблон обертывает ячейки с тегом *chinese*, убирает блоки input_group, убирает ячейки с тегом *help*"
   ]
  },
  {
   "cell_type": "code",
   "execution_count": null,
   "metadata": {
    "tags": [
     "help"
    ]
   },
   "outputs": [],
   "source": [
    "%%writefile input_group_chinese_help.tpl\n",
    "{% extends 'full.tpl'%}\n",
    "\n",
    "{% block any_cell %}\n",
    "{% if 'chinese' in cell['metadata'].get('tags', []) %}\n",
    "    <div class=\"chinese\" >\n",
    "        {{ super() }}\n",
    "    </div>\n",
    "{% elif 'help' in cell['metadata'].get('tags', []) %}\n",
    "    <div class=\"help_0\">\n",
    "    </div>\n",
    "{% else %}\n",
    "    {{ super() }}\n",
    "{% endif %}\n",
    "{% endblock any_cell %}\n",
    "\n",
    "{% block input_group -%}\n",
    "<div class=\"input_0\">\n",
    "</div>\n",
    "{% endblock input_group %}\n"
   ]
  },
  {
   "cell_type": "code",
   "execution_count": null,
   "metadata": {
    "tags": [
     "help"
    ]
   },
   "outputs": [],
   "source": [
    "#### Шаблон ниже - это пример одновременного использования нескольких тегов"
   ]
  },
  {
   "cell_type": "code",
   "execution_count": null,
   "metadata": {
    "tags": [
     "help"
    ]
   },
   "outputs": [],
   "source": [
    "%%writefile hard_medium_easy_tags.tpl\n",
    "\n",
    "{% extends 'full.tpl'%}\n",
    "{% block any_cell %}\n",
    "{% if 'Hard' in cell['metadata'].get('tags', []) %}\n",
    "    <div style=\"border:thin solid red\">\n",
    "        {{ super() }}\n",
    "    </div>\n",
    "{% elif 'Medium' in cell['metadata'].get('tags', []) %}\n",
    "    <div style=\"border:thin solid orange\">\n",
    "        {{ super() }}\n",
    "    </div>\n",
    "{% elif 'Easy' in cell['metadata'].get('tags', []) %}\n",
    "    <div style=\"border:thin solid green\">\n",
    "        {{ super() }}\n",
    "    </div>\n",
    "{% else %}\n",
    "    {{ super() }}\n",
    "{% endif %}\n",
    "{% endblock any_cell %}"
   ]
  },
  {
   "cell_type": "code",
   "execution_count": null,
   "metadata": {
    "tags": [
     "help"
    ]
   },
   "outputs": [],
   "source": [
    "####Это иньекция CSS （не пора ли сделать custom.css）"
   ]
  },
  {
   "cell_type": "code",
   "execution_count": null,
   "metadata": {
    "tags": [
     "help"
    ]
   },
   "outputs": [],
   "source": [
    "%%HTML\n",
    "<style>\n",
    ".flex-container {\n",
    "  display: flex;\n",
    "  align-items: stretch;\n",
    "  flex-wrap: wrap;\n",
    "}\n",
    ".flexframe {\n",
    "    align-items: center; \n",
    "    justify-content: center;\n",
    "    text-align: center;\n",
    "}\n",
    ".iframe_div{\n",
    "    width:400px; \n",
    "    margin: 10px;\n",
    "    padding: 8px;\n",
    "    box-shadow: 0 4px 8px 0 rgba(0, 0, 0, 0.2), 0 6px 20px 0 rgba(0, 0, 0, 0.19);\n",
    "    border: 1px solid #c1c2c3;\n",
    "}\n",
    ".iframe_grow{\n",
    "    flex-grow: 8; \n",
    "}\n",
    ".audio_div{\n",
    "    width:300px;   \n",
    "    align-self: center;\n",
    "    margin: 10px;\n",
    "}\n",
    "video {\n",
    "    width: 100%;\n",
    "    height: auto;\n",
    "}\n",
    "</style>"
   ]
  },
  {
   "cell_type": "code",
   "execution_count": null,
   "metadata": {
    "tags": [
     "help"
    ]
   },
   "outputs": [],
   "source": [
    "#### Это шаблон для видео, картинок и аудио"
   ]
  },
  {
   "cell_type": "code",
   "execution_count": null,
   "metadata": {
    "tags": [
     "help"
    ]
   },
   "outputs": [],
   "source": [
    "%%html\n",
    "<div class=\"flex-container flexframe\" >\n",
    "  <div class=\"iframe_div iframe_grow\">\n",
    "    <div class=\"embed-responsive embed-responsive-16by9\">\n",
    "      <iframe class=\"embed-responsive-item\" src=\"https://www.youtube.com/embed/vhCRqF8UGtk\" frameborder=\"0\" allowfullscreen></iframe>\n",
    "    </div>\n",
    "  </div>\n",
    "    <div class=\"iframe_div iframe_grow\">\n",
    "    <div class=\"embed-responsive embed-responsive-16by9\">\n",
    "      <iframe class=\"embed-responsive-item\" src=\"http://player.youku.com/embed/XMTQ0NjEwMjYxNg==\" frameborder=\"0\" allowfullscreen></iframe>\n",
    "  </div>\n",
    "    </div>\n",
    "    <div class=\"iframe_div\" iframe_grow\">\n",
    "    <img src=\"gif/1.gif\" style=\"width:100%\">\n",
    "    </div>\n",
    "  <div  class=\"audio_div\">\n",
    "     <span class=\"audio\" >\n",
    "       <audio controls=\"\"><source src=\"./mp3/1.mp3\" type=\"audio/mpeg\">Your browser does not support the audio tag. </audio>\n",
    "       <audio controls=\"\"><source src=\"./mp3/2.mp3\" type=\"audio/mpeg\">Your browser does not support the audio tag. </audio> \n",
    "     </span>\n",
    "  </div>\n",
    "  \n",
    " \n",
    "</div>"
   ]
  },
  {
   "cell_type": "code",
   "execution_count": null,
   "metadata": {
    "tags": [
     "help"
    ]
   },
   "outputs": [],
   "source": [
    "####Этот шаблон для вставки (коротких) *mp4* файлов видео."
   ]
  },
  {
   "cell_type": "code",
   "execution_count": null,
   "metadata": {
    "tags": [
     "help"
    ]
   },
   "outputs": [],
   "source": [
    "%%html\n",
    "<div class=\"flex-container flexframe\" >\n",
    "  \n",
    "    <div class=\"iframe_div iframe_grow\">\n",
    "      <div class=\"embed-responsive embed-responsive-16by9\">\n",
    "         <iframe class=\"embed-responsive-item\" src=\"https://www.youtube.com/embed/vhCRqF8UGtk\" frameborder=\"0\" allowfullscreen></iframe>\n",
    "      </div>\n",
    "    </div>\n",
    "\n",
    "\n",
    "  <div class=\"iframe_div iframe_grow\">\n",
    "     <video width=\"400\" controls>\n",
    "       <source src=\"../technics_video/serve/Williams/SWilliams.mp4\" type=\"video/mp4\">\n",
    "       <source src=\"../technics_video/serve/Williams/all_2012-1.mkv\" type=\"video/mkv\">\n",
    "        Your browser does not support HTML5 video.\n",
    "     </video>\n",
    "  </div>\n",
    "\n",
    "</div>"
   ]
  }
 ],
 "metadata": {
  "celltoolbar": "Tags",
  "kernelspec": {
   "display_name": "Python 3",
   "language": "python",
   "name": "python3"
  },
  "language_info": {
   "codemirror_mode": {
    "name": "ipython",
    "version": 3
   },
   "file_extension": ".py",
   "mimetype": "text/x-python",
   "name": "python",
   "nbconvert_exporter": "python",
   "pygments_lexer": "ipython3",
   "version": "3.6.5"
  }
 },
 "nbformat": 4,
 "nbformat_minor": 2
}
