{
 "cells": [
  {
   "cell_type": "markdown",
   "metadata": {},
   "source": [
    "### Подача Серены Уильямс. Подброс - шаг левой - в позу \"трофи\""
   ]
  },
  {
   "cell_type": "markdown",
   "metadata": {},
   "source": [
    "Вот он, первый рабочий вариант справочника по технике топ-игроков. В справочник будут входить медиафайлы с моими комментариями. Аудио (комментариии) пишутся \"за один проход\". Потому здесь сопенье, пошмыгивания и заикания. Эти материалы я планирую использовать, как черновики для последующих статей и стандартов ударов.\n",
    "\n",
    "Я математик (инженер-механик по первому образованию), а потому отношусь к биомеханике (ударов) не как к ненужным тренерским \"понтам\", а как к фундаменту для построения системы тренировок.\n",
    "\n",
    "Подозреваю, что большинство (теннисистов) придерживаются другой точки зрения. Дабы "
   ]
  },
  {
   "cell_type": "code",
   "execution_count": null,
   "metadata": {},
   "outputs": [],
   "source": [
    "[Серена Уильямс](https://ru.wikipedia.org/wiki/%D0%A3%D0%B8%D0%BB%D1%8C%D1%8F%D0%BC%D1%81,_%D0%A1%D0%B5%D1%80%D0%B5%D0%BD%D0%B0)\n",
    "Материал из Википедии "
   ]
  },
  {
   "cell_type": "markdown",
   "metadata": {},
   "source": [
    "Запустите видео, после загрузки (горизонтальная полоса меняет цвет на белый) нажмите на паузу. Перетаскивание бегунка плеера или клики по белой полосе обеспечат показ нужного кадра видео."
   ]
  },
  {
   "cell_type": "code",
   "execution_count": 19,
   "metadata": {},
   "outputs": [
    {
     "data": {
      "text/html": [
       "<div class=\"flex-container flexframe\" >\n",
       "  <div class=\"iframe_div iframe_grow\">\n",
       "     <video width=\"400\" controls>\n",
       "       <source src=\"../technics_video/serve/Williams/SWilliams.mp4\" type=\"video/mp4\">\n",
       "       <source src=\"../technics_video/serve/Williams/all_2012-1.mkv\" type=\"video/mkv\">\n",
       "        Your browser does not support HTML5 video.\n",
       "     </video>\n",
       "  </div>\n",
       "\n",
       "</div>"
      ],
      "text/plain": [
       "<IPython.core.display.HTML object>"
      ]
     },
     "metadata": {},
     "output_type": "display_data"
    }
   ],
   "source": [
    "%%html\n",
    "<div class=\"flex-container flexframe\" >\n",
    "  <div class=\"iframe_div iframe_grow\">\n",
    "     <video width=\"400\" controls>\n",
    "       <source src=\"../technics_video/serve/Williams/SWilliams.mp4\" type=\"video/mp4\">\n",
    "       <source src=\"../technics_video/serve/Williams/all_2012-1.mkv\" type=\"video/mkv\">\n",
    "        Your browser does not support HTML5 video.\n",
    "     </video>\n",
    "  </div>\n",
    "\n",
    "</div>"
   ]
  },
  {
   "cell_type": "markdown",
   "metadata": {},
   "source": [
    "Подготовка подброса. Первый кадр - начало движения назад, второй - остановка перед подбросом. На GIF - анимации показано движение корпуса назад.  "
   ]
  },
  {
   "cell_type": "code",
   "execution_count": 26,
   "metadata": {},
   "outputs": [
    {
     "data": {
      "text/html": [
       "<div class=\"flex-container flexframe\" >\n",
       "  <div class=\"iframe_div iframe_grow\">\n",
       "     <img src=\"../technics_gif/serve/Williams/2/16_0.6/image0001.png\" style=\"width:100%\">\n",
       "  </div>\n",
       "    <div class=\"iframe_div iframe_grow\">\n",
       "    <img src=\"../technics_gif/serve/Williams/2/16_0.6/image0008.png\" style=\"width:100%\">\n",
       "    </div>\n",
       "    <div class=\"iframe_div iframe_grow\">\n",
       "    <img src=\"../technics_gif/serve/Williams/2/16_0.6/insta.gif\" style=\"width:100%\">\n",
       "    </div>\n",
       "  <div  class=\"audio_div\">\n",
       "     <span class=\"audio\" >\n",
       "       <audio controls=\"\"><source src=\"../technics_mp3/serve/Williams/2/1.mp3\" type=\"audio/mpeg\">Your browser does not support the audio tag. </audio>\n",
       "            </span>\n",
       "  </div>\n",
       "  \n",
       " \n",
       "</div>"
      ],
      "text/plain": [
       "<IPython.core.display.HTML object>"
      ]
     },
     "metadata": {},
     "output_type": "display_data"
    }
   ],
   "source": [
    "%%html\n",
    "<div class=\"flex-container flexframe\" >\n",
    "  <div class=\"iframe_div iframe_grow\">\n",
    "     <img src=\"../technics_gif/serve/Williams/2/16_0.6/image0001.png\" style=\"width:100%\">\n",
    "  </div>\n",
    "    <div class=\"iframe_div iframe_grow\">\n",
    "    <img src=\"../technics_gif/serve/Williams/2/16_0.6/image0008.png\" style=\"width:100%\">\n",
    "    </div>\n",
    "    <div class=\"iframe_div iframe_grow\">\n",
    "    <img src=\"../technics_gif/serve/Williams/2/16_0.6/insta.gif\" style=\"width:100%\">\n",
    "    </div>\n",
    "  <div  class=\"audio_div\">\n",
    "     <span class=\"audio\" >\n",
    "       <audio controls=\"\"><source src=\"../technics_mp3/serve/Williams/2/1.mp3\" type=\"audio/mpeg\">Your browser does not support the audio tag. </audio>\n",
    "            </span>\n",
    "  </div>\n",
    "  \n",
    " \n",
    "</div>"
   ]
  },
  {
   "cell_type": "markdown",
   "metadata": {},
   "source": [
    "На следующих изображениях показано все движение подброса. Первая часть (показана выше) с движение корпуса назад и вторая с движением корпуса вперед. На статичных кадрах показано положение игрока в начале и конце движения. GIF-анимация показывает движение все движение подброса. "
   ]
  },
  {
   "cell_type": "code",
   "execution_count": 30,
   "metadata": {
    "scrolled": true
   },
   "outputs": [
    {
     "data": {
      "text/html": [
       "<div class=\"flex-container flexframe\" >\n",
       "  <div class=\"iframe_div iframe_grow\">\n",
       "     <img src=\"../technics_gif/serve/Williams/2/16_1/image0001.png\" style=\"width:100%\">\n",
       "  </div>\n",
       "    <div class=\"iframe_div iframe_grow\">\n",
       "    <img src=\"../technics_gif/serve/Williams/2/16_1/image0012.png\" style=\"width:100%\">\n",
       "    </div>\n",
       "    <div class=\"iframe_div iframe_grow\">\n",
       "    <img src=\"../technics_gif/serve/Williams/2/16_1/insta.gif\" style=\"width:100%\">\n",
       "    </div>\n",
       "  <div  class=\"audio_div\">\n",
       "     <span class=\"audio\" >\n",
       "       <audio controls=\"\"><source src=\"../technics_mp3/serve/Williams/2/2.mp3\" type=\"audio/mpeg\">Your browser does not support the audio tag. </audio>\n",
       "            </span>\n",
       "  </div>\n",
       "  "
      ],
      "text/plain": [
       "<IPython.core.display.HTML object>"
      ]
     },
     "metadata": {},
     "output_type": "display_data"
    }
   ],
   "source": [
    "%%html\n",
    "<div class=\"flex-container flexframe\" >\n",
    "  <div class=\"iframe_div iframe_grow\">\n",
    "     <img src=\"../technics_gif/serve/Williams/2/16_1/image0001.png\" style=\"width:100%\">\n",
    "  </div>\n",
    "    <div class=\"iframe_div iframe_grow\">\n",
    "    <img src=\"../technics_gif/serve/Williams/2/16_1/image0012.png\" style=\"width:100%\">\n",
    "    </div>\n",
    "    <div class=\"iframe_div iframe_grow\">\n",
    "    <img src=\"../technics_gif/serve/Williams/2/16_1/insta.gif\" style=\"width:100%\">\n",
    "    </div>\n",
    "  <div  class=\"audio_div\">\n",
    "     <span class=\"audio\" >\n",
    "       <audio controls=\"\"><source src=\"../technics_mp3/serve/Williams/2/2.mp3\" type=\"audio/mpeg\">Your browser does not support the audio tag. </audio>\n",
    "            </span>\n",
    "  </div>\n",
    "  "
   ]
  },
  {
   "cell_type": "markdown",
   "metadata": {},
   "source": [
    "Поскольку сразу после подброса (мяч оторвался от пальцев) начинается подготовка к движению замаха, и игрок не останавливается, то ниже  показаны движения выхода в позу \"трофи\" подачи. \n",
    "\n",
    "Здесь показана только первая часть движения \"входа\" в позу \"трофи\". Другие части \"Ожидание\" и \"Старт\" полностью будут разобраны в отдельном файле. Здесь же ниже представлен плавный переход \"ожидание - старт\" Серены.   "
   ]
  },
  {
   "cell_type": "code",
   "execution_count": 29,
   "metadata": {
    "scrolled": true
   },
   "outputs": [
    {
     "data": {
      "text/html": [
       "<div class=\"flex-container flexframe\" >\n",
       "  <div class=\"iframe_div iframe_grow\">\n",
       "     <img src=\"../technics_gif/serve/Williams/2/17_0.5/image0001.png\" style=\"width:100%\">\n",
       "  </div>\n",
       "    <div class=\"iframe_div iframe_grow\">\n",
       "     <img src=\"../technics_gif/serve/Williams/2/17_0.5/image0007.png\" style=\"width:100%\">\n",
       "  </div>\n",
       "    \n",
       "    <div class=\"iframe_div iframe_grow\">\n",
       "    <img src=\"../technics_gif/serve/Williams/2/17_0.5/insta.gif\" style=\"width:100%\">\n",
       "    </div>\n",
       "  <div  class=\"audio_div\">\n",
       "     <span class=\"audio\" >\n",
       "       <audio controls=\"\"><source src=\"../technics_mp3/serve/Williams/2/3.mp3\" type=\"audio/mpeg\">Your browser does not support the audio tag. </audio>\n",
       "            </span>\n",
       "  </div>\n",
       "  "
      ],
      "text/plain": [
       "<IPython.core.display.HTML object>"
      ]
     },
     "metadata": {},
     "output_type": "display_data"
    }
   ],
   "source": [
    "%%html\n",
    "<div class=\"flex-container flexframe\" >\n",
    "  <div class=\"iframe_div iframe_grow\">\n",
    "     <img src=\"../technics_gif/serve/Williams/2/17_0.5/image0001.png\" style=\"width:100%\">\n",
    "  </div>\n",
    "    <div class=\"iframe_div iframe_grow\">\n",
    "     <img src=\"../technics_gif/serve/Williams/2/17_0.5/image0007.png\" style=\"width:100%\">\n",
    "  </div>\n",
    "    \n",
    "    <div class=\"iframe_div iframe_grow\">\n",
    "    <img src=\"../technics_gif/serve/Williams/2/17_0.5/insta.gif\" style=\"width:100%\">\n",
    "    </div>\n",
    "  <div  class=\"audio_div\">\n",
    "     <span class=\"audio\" >\n",
    "       <audio controls=\"\"><source src=\"../technics_mp3/serve/Williams/2/3.mp3\" type=\"audio/mpeg\">Your browser does not support the audio tag. </audio>\n",
    "            </span>\n",
    "  </div>\n",
    "  "
   ]
  },
  {
   "cell_type": "markdown",
   "metadata": {},
   "source": [
    "Движение \"ожидание - старт\" в позе трофи от Серены."
   ]
  },
  {
   "cell_type": "code",
   "execution_count": 28,
   "metadata": {},
   "outputs": [
    {
     "data": {
      "text/html": [
       "<div class=\"flex-container flexframe\" >\n",
       "  <div class=\"iframe_div iframe_grow\">\n",
       "     <img src=\"../technics_gif/serve/Williams/2/17.5_0.1/image0001.png\" style=\"width:100%\">\n",
       "  </div>\n",
       "   \n",
       "    <div class=\"iframe_div iframe_grow\">\n",
       "    <img src=\"../technics_gif/serve/Williams/2/17.5_0.1/image0003.png\" style=\"width:100%\">\n",
       "    </div>\n",
       "    <div class=\"iframe_div iframe_grow\">\n",
       "    <img src=\"../technics_gif/serve/Williams/2/17.5_0.1/insta.gif\" style=\"width:100%\">\n",
       "    </div>\n",
       "  <div  class=\"audio_div\">\n",
       "     <span class=\"audio\" >\n",
       "       <audio controls=\"\"><source src=\"../technics_mp3/serve/Williams/2/4.mp3\" type=\"audio/mpeg\">Your browser does not support the audio tag. </audio>\n",
       "            </span>\n",
       "  </div>"
      ],
      "text/plain": [
       "<IPython.core.display.HTML object>"
      ]
     },
     "metadata": {},
     "output_type": "display_data"
    }
   ],
   "source": [
    "%%html\n",
    "<div class=\"flex-container flexframe\" >\n",
    "  <div class=\"iframe_div iframe_grow\">\n",
    "     <img src=\"../technics_gif/serve/Williams/2/17.5_0.1/image0001.png\" style=\"width:100%\">\n",
    "  </div>\n",
    "   \n",
    "    <div class=\"iframe_div iframe_grow\">\n",
    "    <img src=\"../technics_gif/serve/Williams/2/17.5_0.1/image0003.png\" style=\"width:100%\">\n",
    "    </div>\n",
    "    <div class=\"iframe_div iframe_grow\">\n",
    "    <img src=\"../technics_gif/serve/Williams/2/17.5_0.1/insta.gif\" style=\"width:100%\">\n",
    "    </div>\n",
    "  <div  class=\"audio_div\">\n",
    "     <span class=\"audio\" >\n",
    "       <audio controls=\"\"><source src=\"../technics_mp3/serve/Williams/2/4.mp3\" type=\"audio/mpeg\">Your browser does not support the audio tag. </audio>\n",
    "            </span>\n",
    "  </div>"
   ]
  },
  {
   "cell_type": "code",
   "execution_count": 12,
   "metadata": {},
   "outputs": [
    {
     "data": {
      "text/html": [
       "<style>\n",
       ".flex-container {\n",
       "  display: flex;\n",
       "  align-items: stretch;\n",
       "  flex-wrap: wrap;\n",
       "}\n",
       ".flexframe {\n",
       "    align-items: center; \n",
       "    justify-content: center;\n",
       "    text-align: center;\n",
       "}\n",
       ".iframe_div{\n",
       "    width:400px; \n",
       "    margin: 10px;\n",
       "    padding: 8px;\n",
       "    box-shadow: 0 4px 8px 0 rgba(0, 0, 0, 0.2), 0 6px 20px 0 rgba(0, 0, 0, 0.19);\n",
       "    border: 1px solid #c1c2c3;\n",
       "}\n",
       ".iframe_grow{\n",
       "    flex-grow: 8; \n",
       "}\n",
       ".audio_div{\n",
       "    width:300px;   \n",
       "    align-self: center;\n",
       "    margin: 10px;\n",
       "}\n",
       "video {\n",
       "    width: 100%;\n",
       "    height: auto;\n",
       "}\n",
       "</style>\n",
       "</style>"
      ],
      "text/plain": [
       "<IPython.core.display.HTML object>"
      ]
     },
     "metadata": {},
     "output_type": "display_data"
    }
   ],
   "source": [
    "%%HTML\n",
    "<style>\n",
    ".flex-container {\n",
    "  display: flex;\n",
    "  align-items: stretch;\n",
    "  flex-wrap: wrap;\n",
    "}\n",
    ".flexframe {\n",
    "    align-items: center; \n",
    "    justify-content: center;\n",
    "    text-align: center;\n",
    "}\n",
    ".iframe_div{\n",
    "    width:400px; \n",
    "    margin: 10px;\n",
    "    padding: 8px;\n",
    "    box-shadow: 0 4px 8px 0 rgba(0, 0, 0, 0.2), 0 6px 20px 0 rgba(0, 0, 0, 0.19);\n",
    "    border: 1px solid #c1c2c3;\n",
    "}\n",
    ".iframe_grow{\n",
    "    flex-grow: 8; \n",
    "}\n",
    ".audio_div{\n",
    "    width:300px;   \n",
    "    align-self: center;\n",
    "    margin: 10px;\n",
    "}\n",
    "video {\n",
    "    width: 100%;\n",
    "    height: auto;\n",
    "}\n",
    "</style>\n",
    "</style>"
   ]
  }
 ],
 "metadata": {
  "celltoolbar": "Tags",
  "kernelspec": {
   "display_name": "Python 3",
   "language": "python",
   "name": "python3"
  },
  "language_info": {
   "codemirror_mode": {
    "name": "ipython",
    "version": 3
   },
   "file_extension": ".py",
   "mimetype": "text/x-python",
   "name": "python",
   "nbconvert_exporter": "python",
   "pygments_lexer": "ipython3",
   "version": "3.6.5"
  }
 },
 "nbformat": 4,
 "nbformat_minor": 2
}
