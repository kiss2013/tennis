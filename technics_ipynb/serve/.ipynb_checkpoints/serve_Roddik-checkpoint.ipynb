{
 "cells": [
  {
   "cell_type": "markdown",
   "metadata": {},
   "source": [
    "###"
   ]
  },
  {
   "cell_type": "markdown",
   "metadata": {},
   "source": []
  },
  {
   "cell_type": "code",
   "execution_count": null,
   "metadata": {},
   "outputs": [],
   "source": [
    "[]()\n",
    "[]()\n",
    "[]()\n",
    "[]()"
   ]
  },
  {
   "cell_type": "markdown",
   "metadata": {},
   "source": [
    "*После публикации первых материалов я понял, что в аудиокомментарии \"биомеханика\" не помещается. Я хотел \"все и сразу\", а надо \"step by step\".*\n",
    "\n",
    "*Сначал надо запомнить каждое движение, (чтобы вспомнить на тренировке!)а уже потом строить модели, потому в аудио важные (с моей точки зрения) особенности поз и движений. Хотя, на самом деле, у меня уже есть \"скороспелые\" кинематические модели. И иногда они все же \"проскакивают\" в комментариях... И вопросы мне тоже нравится задавать...*\n",
    "\n",
    "*Напоминаю, что это первый рабочий вариант справочника по технике топ-игроков. В справочник будут входить медиафайлы с моими комментариями. Аудио (комментариии) пишутся \"за один проход\". Потому здесь сопенье, пошмыгивания и заикания. Эти материалы я планирую использовать, как черновики для последующих статей и стандартов ударов.*"
   ]
  },
  {
   "cell_type": "code",
   "execution_count": null,
   "metadata": {
    "tags": [
     "help"
    ]
   },
   "outputs": [],
   "source": [
    "!jupyter nbconvert --to html serve_Roddik.ipynb --output ../../technics_html/serve/serve_Roddik --template=../../_scripts_help/input_group_chinese_help.tpl"
   ]
  },
  {
   "cell_type": "code",
   "execution_count": 2,
   "metadata": {},
   "outputs": [
    {
     "data": {
      "text/html": [
       "<div class=\"flex-container flexframe\" >\n",
       "  <div class=\"iframe_div iframe_grow\">\n",
       "     <img src=\"../../technics_gif/serve/Roddik/2/5_5/image0001.png\" style=\"width:100%\">\n",
       "  </div>\n",
       "    <div class=\"iframe_div iframe_grow\">\n",
       "    <img src=\"../../technics_gif/serve/Roddik/2/5_5/image0052.png\" style=\"width:100%\">\n",
       "    </div>\n",
       "    <div class=\"iframe_div iframe_grow\">\n",
       "    <img src=\"../../technics_gif/serve/Roddik/2/5_5/insta80.gif\" style=\"width:100%\">\n",
       "    </div>\n",
       "  <div  class=\"audio_div\">\n",
       "     <span class=\"audio\" >\n",
       "       <audio controls=\"\"><source src=\"../../technics_mp3/serve/Roddik/2/1.mp3\" type=\"audio/mpeg\">Your browser does not support the audio tag. </audio>\n",
       "            </span>\n",
       "  </div>\n",
       "  \n",
       " \n",
       "</div>"
      ],
      "text/plain": [
       "<IPython.core.display.HTML object>"
      ]
     },
     "metadata": {},
     "output_type": "display_data"
    }
   ],
   "source": [
    "%%html\n",
    "<div class=\"flex-container flexframe\" >\n",
    "  <div class=\"iframe_div iframe_grow\">\n",
    "     <img src=\"../../technics_gif/serve/Roddik/2/5_5/image0001.png\" style=\"width:100%\">\n",
    "  </div>\n",
    "    <div class=\"iframe_div iframe_grow\">\n",
    "    <img src=\"../../technics_gif/serve/Roddik/2/5_5/image0052.png\" style=\"width:100%\">\n",
    "    </div>\n",
    "    <div class=\"iframe_div iframe_grow\">\n",
    "    <img src=\"../../technics_gif/serve/Roddik/2/5_5/insta80.gif\" style=\"width:100%\">\n",
    "    </div>\n",
    "  <div  class=\"audio_div\">\n",
    "     <span class=\"audio\" >\n",
    "       <audio controls=\"\"><source src=\"../../technics_mp3/serve/Roddik/2/1.mp3\" type=\"audio/mpeg\">Your browser does not support the audio tag. </audio>\n",
    "            </span>\n",
    "  </div>\n",
    "  \n",
    " \n",
    "</div>"
   ]
  },
  {
   "cell_type": "code",
   "execution_count": 4,
   "metadata": {},
   "outputs": [
    {
     "data": {
      "text/html": [
       "<div class=\"flex-container flexframe\" >\n",
       "  <div class=\"iframe_div iframe_grow\">\n",
       "     <img src=\"../../technics_gif/serve/Roddik/2/10_5/image0001.png\" style=\"width:100%\">\n",
       "  </div>\n",
       "  <div class=\"iframe_div iframe_grow\">\n",
       "    <img src=\"../../technics_gif/serve/Roddik/2/10_5/image0025.png\" style=\"width:100%\">\n",
       "  </div>\n",
       "  <div class=\"iframe_div iframe_grow\">\n",
       "     <img src=\"../../technics_gif/serve/Roddik/2/10_5/image0031.png\" style=\"width:100%\">\n",
       "  </div>\n",
       "  <div class=\"iframe_div iframe_grow\">\n",
       "    <img src=\"../../technics_gif/serve/Roddik/2/10_5/image0035.png\" style=\"width:100%\">\n",
       "  </div>\n",
       "  <div class=\"iframe_div iframe_grow\">\n",
       "     <img src=\"../../technics_gif/serve/Roddik/2/10_5/image0037.png\" style=\"width:100%\">\n",
       "  </div>\n",
       "  <div class=\"iframe_div iframe_grow\">\n",
       "    <img src=\"../../technics_gif/serve/Roddik/2/10_5/image0040.png\" style=\"width:100%\">\n",
       "  </div>\n",
       "  <div class=\"iframe_div iframe_grow\">\n",
       "     <img src=\"../../technics_gif/serve/Roddik/2/10_5/image0041.png\" style=\"width:100%\">\n",
       "  </div>\n",
       "  <div class=\"iframe_div iframe_grow\">\n",
       "    <img src=\"../../technics_gif/serve/Roddik/2/10_5/image0042.png\" style=\"width:100%\">\n",
       "  </div>\n",
       "  <div class=\"iframe_div iframe_grow\">\n",
       "     <img src=\"../../technics_gif/serve/Roddik/2/10_5/image0044.png\" style=\"width:100%\">\n",
       "  </div>\n",
       "  <div class=\"iframe_div iframe_grow\">\n",
       "    <img src=\"../../technics_gif/serve/Roddik/2/10_5/image0052.png\" style=\"width:100%\">\n",
       "  </div>\n",
       "  <div class=\"iframe_div iframe_grow\">\n",
       "    <img src=\"../../technics_gif/serve/Roddik/2/10_5/insta80.gif\" style=\"width:100%\">\n",
       "  </div>\n",
       "  <div  class=\"audio_div\">\n",
       "     <span class=\"audio\" >\n",
       "       <audio controls=\"\"><source src=\"../../technics_mp3/serve/Roddik/2/2.mp3\" type=\"audio/mpeg\">Your browser does not support the audio tag. </audio>\n",
       "            </span>\n",
       "  </div>\n",
       "  \n",
       " \n",
       "</div>"
      ],
      "text/plain": [
       "<IPython.core.display.HTML object>"
      ]
     },
     "metadata": {},
     "output_type": "display_data"
    }
   ],
   "source": [
    "%%html\n",
    "<div class=\"flex-container flexframe\" >\n",
    "  <div class=\"iframe_div iframe_grow\">\n",
    "     <img src=\"../../technics_gif/serve/Roddik/2/10_5/image0001.png\" style=\"width:100%\">\n",
    "  </div>\n",
    "  <div class=\"iframe_div iframe_grow\">\n",
    "    <img src=\"../../technics_gif/serve/Roddik/2/10_5/image0025.png\" style=\"width:100%\">\n",
    "  </div>\n",
    "  <div class=\"iframe_div iframe_grow\">\n",
    "     <img src=\"../../technics_gif/serve/Roddik/2/10_5/image0031.png\" style=\"width:100%\">\n",
    "  </div>\n",
    "  <div class=\"iframe_div iframe_grow\">\n",
    "    <img src=\"../../technics_gif/serve/Roddik/2/10_5/image0035.png\" style=\"width:100%\">\n",
    "  </div>\n",
    "  <div class=\"iframe_div iframe_grow\">\n",
    "     <img src=\"../../technics_gif/serve/Roddik/2/10_5/image0037.png\" style=\"width:100%\">\n",
    "  </div>\n",
    "  <div class=\"iframe_div iframe_grow\">\n",
    "    <img src=\"../../technics_gif/serve/Roddik/2/10_5/image0040.png\" style=\"width:100%\">\n",
    "  </div>\n",
    "  <div class=\"iframe_div iframe_grow\">\n",
    "     <img src=\"../../technics_gif/serve/Roddik/2/10_5/image0041.png\" style=\"width:100%\">\n",
    "  </div>\n",
    "  <div class=\"iframe_div iframe_grow\">\n",
    "    <img src=\"../../technics_gif/serve/Roddik/2/10_5/image0042.png\" style=\"width:100%\">\n",
    "  </div>\n",
    "  <div class=\"iframe_div iframe_grow\">\n",
    "     <img src=\"../../technics_gif/serve/Roddik/2/10_5/image0044.png\" style=\"width:100%\">\n",
    "  </div>\n",
    "  <div class=\"iframe_div iframe_grow\">\n",
    "    <img src=\"../../technics_gif/serve/Roddik/2/10_5/image0052.png\" style=\"width:100%\">\n",
    "  </div>\n",
    "  <div class=\"iframe_div iframe_grow\">\n",
    "    <img src=\"../../technics_gif/serve/Roddik/2/10_5/insta80.gif\" style=\"width:100%\">\n",
    "  </div>\n",
    "  <div  class=\"audio_div\">\n",
    "     <span class=\"audio\" >\n",
    "       <audio controls=\"\"><source src=\"../../technics_mp3/serve/Roddik/2/2.mp3\" type=\"audio/mpeg\">Your browser does not support the audio tag. </audio>\n",
    "            </span>\n",
    "  </div>\n",
    "  \n",
    " \n",
    "</div>"
   ]
  },
  {
   "cell_type": "code",
   "execution_count": null,
   "metadata": {
    "tags": [
     "help"
    ]
   },
   "outputs": [],
   "source": [
    "%%html\n",
    "<div class=\"flex-container flexframe\" >\n",
    "  <div class=\"iframe_div iframe_grow\">\n",
    "     <video width=\"400\" controls>\n",
    "       <source src=\"../../technics_video/serve/Williams/SWilliams.mp4\" type=\"video/mp4\">\n",
    "       <source src=\"../../technics_video/serve/Williams/all_2012-1.mkv\" type=\"video/mkv\">\n",
    "        Your browser does not support HTML5 video.\n",
    "     </video>\n",
    "  </div>\n",
    "\n",
    "</div>"
   ]
  },
  {
   "cell_type": "code",
   "execution_count": null,
   "metadata": {
    "tags": [
     "help"
    ]
   },
   "outputs": [],
   "source": [
    "%%html\n",
    "<div class=\"flex-container flexframe\" >\n",
    "  <div class=\"iframe_div iframe_grow\">\n",
    "     <img src=\"../../technics_gif/serve/Williams/2/16_0.6/image0001.png\" style=\"width:100%\">\n",
    "  </div>\n",
    "    <div class=\"iframe_div iframe_grow\">\n",
    "    <img src=\"../../technics_gif/serve/Williams/2/16_0.6/image0008.png\" style=\"width:100%\">\n",
    "    </div>\n",
    "    <div class=\"iframe_div iframe_grow\">\n",
    "    <img src=\"../../technics_gif/serve/Williams/2/16_0.6/insta.gif\" style=\"width:100%\">\n",
    "    </div>\n",
    "  <div  class=\"audio_div\">\n",
    "     <span class=\"audio\" >\n",
    "       <audio controls=\"\"><source src=\"../../technics_mp3/serve/Williams/2/1.mp3\" type=\"audio/mpeg\">Your browser does not support the audio tag. </audio>\n",
    "            </span>\n",
    "  </div>\n",
    "  \n",
    " \n",
    "</div>"
   ]
  },
  {
   "cell_type": "code",
   "execution_count": 1,
   "metadata": {},
   "outputs": [
    {
     "data": {
      "text/html": [
       "<style>\n",
       ".flex-container {\n",
       "  display: flex;\n",
       "  align-items: stretch;\n",
       "  flex-wrap: wrap;\n",
       "}\n",
       ".flexframe {\n",
       "    align-items: center; \n",
       "    justify-content: center;\n",
       "    text-align: center;\n",
       "}\n",
       ".iframe_div{\n",
       "    width:400px; \n",
       "    margin: 10px;\n",
       "    padding: 8px;\n",
       "    box-shadow: 0 4px 8px 0 rgba(0, 0, 0, 0.2), 0 6px 20px 0 rgba(0, 0, 0, 0.19);\n",
       "    border: 1px solid #c1c2c3;\n",
       "}\n",
       ".iframe_grow{\n",
       "    flex-grow: 8; \n",
       "}\n",
       ".audio_div{\n",
       "    width:300px;   \n",
       "    align-self: center;\n",
       "    margin: 10px;\n",
       "}\n",
       "video {\n",
       "    width: 100%;\n",
       "    height: auto;\n",
       "}"
      ],
      "text/plain": [
       "<IPython.core.display.HTML object>"
      ]
     },
     "metadata": {},
     "output_type": "display_data"
    }
   ],
   "source": [
    "%%HTML\n",
    "<style>\n",
    ".flex-container {\n",
    "  display: flex;\n",
    "  align-items: stretch;\n",
    "  flex-wrap: wrap;\n",
    "}\n",
    ".flexframe {\n",
    "    align-items: center; \n",
    "    justify-content: center;\n",
    "    text-align: center;\n",
    "}\n",
    ".iframe_div{\n",
    "    width:400px; \n",
    "    margin: 10px;\n",
    "    padding: 8px;\n",
    "    box-shadow: 0 4px 8px 0 rgba(0, 0, 0, 0.2), 0 6px 20px 0 rgba(0, 0, 0, 0.19);\n",
    "    border: 1px solid #c1c2c3;\n",
    "}\n",
    ".iframe_grow{\n",
    "    flex-grow: 8; \n",
    "}\n",
    ".audio_div{\n",
    "    width:300px;   \n",
    "    align-self: center;\n",
    "    margin: 10px;\n",
    "}\n",
    "video {\n",
    "    width: 100%;\n",
    "    height: auto;\n",
    "}\n"
   ]
  }
 ],
 "metadata": {
  "celltoolbar": "Tags",
  "kernelspec": {
   "display_name": "Python 3",
   "language": "python",
   "name": "python3"
  },
  "language_info": {
   "codemirror_mode": {
    "name": "ipython",
    "version": 3
   },
   "file_extension": ".py",
   "mimetype": "text/x-python",
   "name": "python",
   "nbconvert_exporter": "python",
   "pygments_lexer": "ipython3",
   "version": "3.6.5"
  }
 },
 "nbformat": 4,
 "nbformat_minor": 2
}
