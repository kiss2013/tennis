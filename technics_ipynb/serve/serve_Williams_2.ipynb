{
 "cells": [
  {
   "cell_type": "code",
   "execution_count": null,
   "metadata": {
    "tags": [
     "help"
    ]
   },
   "outputs": [],
   "source": [
    "!jupyter nbconvert --to html serve_Williams_2.ipynb --output ../technics_html/serve_Williams_2 --template=../_scripts_help/input_group_chinese_help.tpl"
   ]
  },
  {
   "cell_type": "markdown",
   "metadata": {},
   "source": [
    "###"
   ]
  },
  {
   "cell_type": "markdown",
   "metadata": {},
   "source": []
  },
  {
   "cell_type": "code",
   "execution_count": null,
   "metadata": {},
   "outputs": [],
   "source": [
    "[]()\n",
    "[]()\n",
    "[]()\n",
    "[]()"
   ]
  },
  {
   "cell_type": "code",
   "execution_count": null,
   "metadata": {},
   "outputs": [],
   "source": []
  },
  {
   "cell_type": "code",
   "execution_count": 1,
   "metadata": {},
   "outputs": [
    {
     "data": {
      "text/html": [
       "<div class=\"flex-container flexframe\" >\n",
       "  <div class=\"iframe_div iframe_grow\">\n",
       "     <video width=\"400\" controls>\n",
       "       <source src=\"../technics_video/serve/Williams/SWilliams.mp4\" type=\"video/mp4\">\n",
       "       <source src=\"../technics_video/serve/Williams/all_2012-1.mkv\" type=\"video/mkv\">\n",
       "        Your browser does not support HTML5 video.\n",
       "     </video>\n",
       "  </div>\n",
       "\n",
       "</div>"
      ],
      "text/plain": [
       "<IPython.core.display.HTML object>"
      ]
     },
     "metadata": {},
     "output_type": "display_data"
    }
   ],
   "source": [
    "%%html\n",
    "<div class=\"flex-container flexframe\" >\n",
    "  <div class=\"iframe_div iframe_grow\">\n",
    "     <video width=\"400\" controls>\n",
    "       <source src=\"../technics_video/serve/Williams/SWilliams.mp4\" type=\"video/mp4\">\n",
    "       <source src=\"../technics_video/serve/Williams/all_2012-1.mkv\" type=\"video/mkv\">\n",
    "        Your browser does not support HTML5 video.\n",
    "     </video>\n",
    "  </div>\n",
    "\n",
    "</div>"
   ]
  },
  {
   "cell_type": "code",
   "execution_count": 2,
   "metadata": {},
   "outputs": [
    {
     "data": {
      "text/html": [
       "<div class=\"flex-container flexframe\" >\n",
       "  <div class=\"iframe_div iframe_grow\">\n",
       "     <img src=\"../technics_gif/serve/Williams/7/0_6.5/image0001.png\" style=\"width:100%\">\n",
       "  </div>\n",
       "    <div class=\"iframe_div iframe_grow\">\n",
       "    <img src=\"../technics_gif/serve/Williams/7/0_6.5/image0044.png\" style=\"width:100%\">\n",
       "    </div>\n",
       "    <div class=\"iframe_div iframe_grow\">\n",
       "    <img src=\"../technics_gif/serve/Williams/7/0_6.5/insta.gif\" style=\"width:100%\">\n",
       "    </div>\n",
       "  <div  class=\"audio_div\">\n",
       "     <span class=\"audio\" >\n",
       "       <audio controls=\"\"><source src=\"../technics_mp3/serve/Williams/7/2/1.mp3\" type=\"audio/mpeg\">Your browser does not support the audio tag. </audio>\n",
       "            </span>\n",
       "  </div>\n",
       "  \n",
       " \n",
       "</div>"
      ],
      "text/plain": [
       "<IPython.core.display.HTML object>"
      ]
     },
     "metadata": {},
     "output_type": "display_data"
    }
   ],
   "source": [
    "%%html\n",
    "<div class=\"flex-container flexframe\" >\n",
    "  <div class=\"iframe_div iframe_grow\">\n",
    "     <img src=\"../technics_gif/serve/Williams/7/0_6.5/image0001.png\" style=\"width:100%\">\n",
    "  </div>\n",
    "    <div class=\"iframe_div iframe_grow\">\n",
    "    <img src=\"../technics_gif/serve/Williams/7/0_6.5/image0044.png\" style=\"width:100%\">\n",
    "    </div>\n",
    "    <div class=\"iframe_div iframe_grow\">\n",
    "    <img src=\"../technics_gif/serve/Williams/7/0_6.5/insta.gif\" style=\"width:100%\">\n",
    "    </div>\n",
    "  <div  class=\"audio_div\">\n",
    "     <span class=\"audio\" >\n",
    "       <audio controls=\"\"><source src=\"../technics_mp3/serve/Williams/7/1.mp3\" type=\"audio/mpeg\">Your browser does not support the audio tag. </audio>\n",
    "            </span>\n",
    "  </div>\n",
    "  \n",
    " \n",
    "</div>"
   ]
  },
  {
   "cell_type": "code",
   "execution_count": 20,
   "metadata": {},
   "outputs": [
    {
     "data": {
      "text/html": [
       "<div class=\"flex-container flexframe\" >\n",
       "  <div class=\"iframe_div iframe_grow\">\n",
       "     <img src=\"../technics_gif/serve/Williams/7/6.4_7.9/image0001.png\" style=\"width:100%\">\n",
       "  </div>\n",
       "    <div class=\"iframe_div iframe_grow\">\n",
       "    <img src=\"../technics_gif/serve/Williams/7/6.4_7.9/image0053.png\" style=\"width:100%\">\n",
       "    </div>\n",
       "    <div class=\"iframe_div iframe_grow\">\n",
       "    <img src=\"../technics_gif/serve/Williams/7/6.4_7.9/insta.gif\" style=\"width:100%\">\n",
       "    </div>\n",
       "  <div  class=\"audio_div\">\n",
       "     <span class=\"audio\" >\n",
       "       <audio controls=\"\"><source src=\"../technics_mp3/serve/Williams/7/2.mp3\" type=\"audio/mpeg\">Your browser does not support the audio tag. </audio>\n",
       "            </span>\n",
       "  </div>\n",
       "  \n",
       " \n",
       "</div>"
      ],
      "text/plain": [
       "<IPython.core.display.HTML object>"
      ]
     },
     "metadata": {},
     "output_type": "display_data"
    }
   ],
   "source": [
    "%%html\n",
    "<div class=\"flex-container flexframe\" >\n",
    "  <div class=\"iframe_div iframe_grow\">\n",
    "     <img src=\"../technics_gif/serve/Williams/7/6.4_7.9/image0001.png\" style=\"width:100%\">\n",
    "  </div>\n",
    "    <div class=\"iframe_div iframe_grow\">\n",
    "    <img src=\"../technics_gif/serve/Williams/7/6.4_7.9/image0053.png\" style=\"width:100%\">\n",
    "    </div>\n",
    "    <div class=\"iframe_div iframe_grow\">\n",
    "    <img src=\"../technics_gif/serve/Williams/7/6.4_7.9/insta.gif\" style=\"width:100%\">\n",
    "    </div>\n",
    "  <div  class=\"audio_div\">\n",
    "     <span class=\"audio\" >\n",
    "       <audio controls=\"\"><source src=\"../technics_mp3/serve/Williams/7/2.mp3\" type=\"audio/mpeg\">Your browser does not support the audio tag. </audio>\n",
    "            </span>\n",
    "  </div>\n",
    "  \n",
    " \n",
    "</div>"
   ]
  },
  {
   "cell_type": "code",
   "execution_count": 21,
   "metadata": {},
   "outputs": [
    {
     "data": {
      "text/html": [
       "<div class=\"flex-container flexframe\" >\n",
       "  <div class=\"iframe_div iframe_grow\">\n",
       "     <img src=\"../technics_gif/serve/Williams/7/14_5/image0001.png\" style=\"width:100%\">\n",
       "  </div>\n",
       "    <div class=\"iframe_div iframe_grow\">\n",
       "    <img src=\"../technics_gif/serve/Williams/7/14_5/image0034.png\" style=\"width:100%\">\n",
       "    </div>\n",
       "    <div class=\"iframe_div iframe_grow\">\n",
       "    <img src=\"../technics_gif/serve/Williams/7/14_5/insta.gif\" style=\"width:100%\">\n",
       "    </div>\n",
       "  <div  class=\"audio_div\">\n",
       "     <span class=\"audio\" >\n",
       "       <audio controls=\"\"><source src=\"../technics_mp3/serve/Williams/7/3.mp3\" type=\"audio/mpeg\">Your browser does not support the audio tag. </audio>\n",
       "            </span>\n",
       "  </div>\n",
       "  \n",
       " \n",
       "</div>"
      ],
      "text/plain": [
       "<IPython.core.display.HTML object>"
      ]
     },
     "metadata": {},
     "output_type": "display_data"
    }
   ],
   "source": [
    "%%html\n",
    "<div class=\"flex-container flexframe\" >\n",
    "  <div class=\"iframe_div iframe_grow\">\n",
    "     <img src=\"../technics_gif/serve/Williams/7/14_5/image0001.png\" style=\"width:100%\">\n",
    "  </div>\n",
    "    <div class=\"iframe_div iframe_grow\">\n",
    "    <img src=\"../technics_gif/serve/Williams/7/14_5/image0034.png\" style=\"width:100%\">\n",
    "    </div>\n",
    "    <div class=\"iframe_div iframe_grow\">\n",
    "    <img src=\"../technics_gif/serve/Williams/7/14_5/insta.gif\" style=\"width:100%\">\n",
    "    </div>\n",
    "  <div  class=\"audio_div\">\n",
    "     <span class=\"audio\" >\n",
    "       <audio controls=\"\"><source src=\"../technics_mp3/serve/Williams/7/3.mp3\" type=\"audio/mpeg\">Your browser does not support the audio tag. </audio>\n",
    "            </span>\n",
    "  </div>\n",
    "  \n",
    " \n",
    "</div>"
   ]
  },
  {
   "cell_type": "code",
   "execution_count": 22,
   "metadata": {},
   "outputs": [
    {
     "data": {
      "text/html": [
       "<div class=\"flex-container flexframe\" >\n",
       "  <div class=\"iframe_div iframe_grow\">\n",
       "     <img src=\"../technics_gif/serve/Williams/7/19_5/image0001.png\" style=\"width:100%\">\n",
       "  </div>\n",
       "    <div class=\"iframe_div iframe_grow\">\n",
       "    <img src=\"../technics_gif/serve/Williams/7/19_5/image0034.png\" style=\"width:100%\">\n",
       "    </div>\n",
       "    <div class=\"iframe_div iframe_grow\">\n",
       "    <img src=\"../technics_gif/serve/Williams/7/19_5/insta.gif\" style=\"width:100%\">\n",
       "    </div>\n",
       "  <div  class=\"audio_div\">\n",
       "     <span class=\"audio\" >\n",
       "       <audio controls=\"\"><source src=\"../technics_mp3/serve/Williams/7/4.mp3\" type=\"audio/mpeg\">Your browser does not support the audio tag. </audio>\n",
       "            </span>\n",
       "  </div>\n",
       "  \n",
       " \n",
       "</div>"
      ],
      "text/plain": [
       "<IPython.core.display.HTML object>"
      ]
     },
     "metadata": {},
     "output_type": "display_data"
    }
   ],
   "source": [
    "%%html\n",
    "<div class=\"flex-container flexframe\" >\n",
    "  <div class=\"iframe_div iframe_grow\">\n",
    "     <img src=\"../technics_gif/serve/Williams/7/19_5/image0001.png\" style=\"width:100%\">\n",
    "  </div>\n",
    "    <div class=\"iframe_div iframe_grow\">\n",
    "    <img src=\"../technics_gif/serve/Williams/7/19_5/image0034.png\" style=\"width:100%\">\n",
    "    </div>\n",
    "    <div class=\"iframe_div iframe_grow\">\n",
    "    <img src=\"../technics_gif/serve/Williams/7/19_5/insta.gif\" style=\"width:100%\">\n",
    "    </div>\n",
    "  <div  class=\"audio_div\">\n",
    "     <span class=\"audio\" >\n",
    "       <audio controls=\"\"><source src=\"../technics_mp3/serve/Williams/7/4.mp3\" type=\"audio/mpeg\">Your browser does not support the audio tag. </audio>\n",
    "            </span>\n",
    "  </div>\n",
    "  \n",
    " \n",
    "</div>"
   ]
  },
  {
   "cell_type": "code",
   "execution_count": 23,
   "metadata": {},
   "outputs": [
    {
     "data": {
      "text/html": [
       "<div class=\"flex-container flexframe\" >\n",
       "  <div class=\"iframe_div iframe_grow\">\n",
       "     <img src=\"../technics_gif/serve/Williams/7/19_9.1/image0001.png\" style=\"width:100%\">\n",
       "  </div>\n",
       "    <div class=\"iframe_div iframe_grow\">\n",
       "    <img src=\"../technics_gif/serve/Williams/7/19_9.1/image0044.png\" style=\"width:100%\">\n",
       "    </div>\n",
       "    <div class=\"iframe_div iframe_grow\">\n",
       "    <img src=\"../technics_gif/serve/Williams/7/19_9.1/image0061.png\" style=\"width:100%\">\n",
       "    </div>\n",
       "    <div class=\"iframe_div iframe_grow\">\n",
       "    <img src=\"../technics_gif/serve/Williams/7/19_9.1/insta.gif\" style=\"width:100%\">\n",
       "    </div>\n",
       "  <div  class=\"audio_div\">\n",
       "     <span class=\"audio\" >\n",
       "       <audio controls=\"\"><source src=\"../technics_mp3/serve/Williams/7/5.mp3\" type=\"audio/mpeg\">Your browser does not support the audio tag. </audio>\n",
       "            </span>\n",
       "  </div>\n",
       "  \n",
       " \n",
       "</div>"
      ],
      "text/plain": [
       "<IPython.core.display.HTML object>"
      ]
     },
     "metadata": {},
     "output_type": "display_data"
    }
   ],
   "source": [
    "%%html\n",
    "<div class=\"flex-container flexframe\" >\n",
    "  <div class=\"iframe_div iframe_grow\">\n",
    "     <img src=\"../technics_gif/serve/Williams/7/19_9.1/image0001.png\" style=\"width:100%\">\n",
    "  </div>\n",
    "    <div class=\"iframe_div iframe_grow\">\n",
    "    <img src=\"../technics_gif/serve/Williams/7/19_9.1/image0044.png\" style=\"width:100%\">\n",
    "    </div>\n",
    "    <div class=\"iframe_div iframe_grow\">\n",
    "    <img src=\"../technics_gif/serve/Williams/7/19_9.1/image0061.png\" style=\"width:100%\">\n",
    "    </div>\n",
    "    <div class=\"iframe_div iframe_grow\">\n",
    "    <img src=\"../technics_gif/serve/Williams/7/19_9.1/insta.gif\" style=\"width:100%\">\n",
    "    </div>\n",
    "  <div  class=\"audio_div\">\n",
    "     <span class=\"audio\" >\n",
    "       <audio controls=\"\"><source src=\"../technics_mp3/serve/Williams/7/5.mp3\" type=\"audio/mpeg\">Your browser does not support the audio tag. </audio>\n",
    "            </span>\n",
    "  </div>\n",
    "  \n",
    " \n",
    "</div>"
   ]
  },
  {
   "cell_type": "code",
   "execution_count": 24,
   "metadata": {},
   "outputs": [
    {
     "data": {
      "text/html": [
       "<div class=\"flex-container flexframe\" >\n",
       "  <div class=\"iframe_div iframe_grow\">\n",
       "     <img src=\"../technics_gif/serve/Williams/7/24_6.3/image0001.png\" style=\"width:100%\">\n",
       "  </div>\n",
       "    <div class=\"iframe_div iframe_grow\">\n",
       "    <img src=\"../technics_gif/serve/Williams/7/24_6.3/image0042.png\" style=\"width:100%\">\n",
       "    </div>\n",
       "    <div class=\"iframe_div iframe_grow\">\n",
       "    <img src=\"../technics_gif/serve/Williams/7/24_6.3/insta.gif\" style=\"width:100%\">\n",
       "    </div>\n",
       "  <div  class=\"audio_div\">\n",
       "     <span class=\"audio\" >\n",
       "       <audio controls=\"\"><source src=\"../technics_mp3/serve/Williams/7/6.mp3\" type=\"audio/mpeg\">Your browser does not support the audio tag. </audio>\n",
       "            </span>\n",
       "  </div>\n",
       "  \n",
       " \n",
       "</div>"
      ],
      "text/plain": [
       "<IPython.core.display.HTML object>"
      ]
     },
     "metadata": {},
     "output_type": "display_data"
    }
   ],
   "source": [
    "%%html\n",
    "<div class=\"flex-container flexframe\" >\n",
    "  <div class=\"iframe_div iframe_grow\">\n",
    "     <img src=\"../technics_gif/serve/Williams/7/24_6.3/image0001.png\" style=\"width:100%\">\n",
    "  </div>\n",
    "    <div class=\"iframe_div iframe_grow\">\n",
    "    <img src=\"../technics_gif/serve/Williams/7/24_6.3/image0042.png\" style=\"width:100%\">\n",
    "    </div>\n",
    "    <div class=\"iframe_div iframe_grow\">\n",
    "    <img src=\"../technics_gif/serve/Williams/7/24_6.3/insta.gif\" style=\"width:100%\">\n",
    "    </div>\n",
    "  <div  class=\"audio_div\">\n",
    "     <span class=\"audio\" >\n",
    "       <audio controls=\"\"><source src=\"../technics_mp3/serve/Williams/7/6.mp3\" type=\"audio/mpeg\">Your browser does not support the audio tag. </audio>\n",
    "            </span>\n",
    "  </div>\n",
    "  \n",
    " \n",
    "</div>"
   ]
  },
  {
   "cell_type": "code",
   "execution_count": 25,
   "metadata": {},
   "outputs": [
    {
     "data": {
      "text/html": [
       "<div class=\"flex-container flexframe\" >\n",
       "  <div class=\"iframe_div iframe_grow\">\n",
       "     <img src=\"../technics_gif/serve/Williams/7/29_2/image0001.png\" style=\"width:100%\">\n",
       "  </div>\n",
       "    <div class=\"iframe_div iframe_grow\">\n",
       "    <img src=\"../technics_gif/serve/Williams/7/29_2/image0015.png\" style=\"width:100%\">\n",
       "    </div>\n",
       "    <div class=\"iframe_div iframe_grow\">\n",
       "    <img src=\"../technics_gif/serve/Williams/7/29_2/insta.gif\" style=\"width:100%\">\n",
       "    </div>\n",
       "  <div  class=\"audio_div\">\n",
       "     <span class=\"audio\" >\n",
       "       <audio controls=\"\"><source src=\"../technics_mp3/serve/Williams/7/7.mp3\" type=\"audio/mpeg\">Your browser does not support the audio tag. </audio>\n",
       "            </span>\n",
       "  </div>\n",
       "  \n",
       " \n",
       "</div>"
      ],
      "text/plain": [
       "<IPython.core.display.HTML object>"
      ]
     },
     "metadata": {},
     "output_type": "display_data"
    }
   ],
   "source": [
    "%%html\n",
    "<div class=\"flex-container flexframe\" >\n",
    "  <div class=\"iframe_div iframe_grow\">\n",
    "     <img src=\"../technics_gif/serve/Williams/7/29_2/image0001.png\" style=\"width:100%\">\n",
    "  </div>\n",
    "    <div class=\"iframe_div iframe_grow\">\n",
    "    <img src=\"../technics_gif/serve/Williams/7/29_2/image0015.png\" style=\"width:100%\">\n",
    "    </div>\n",
    "    <div class=\"iframe_div iframe_grow\">\n",
    "    <img src=\"../technics_gif/serve/Williams/7/29_2/insta.gif\" style=\"width:100%\">\n",
    "    </div>\n",
    "  <div  class=\"audio_div\">\n",
    "     <span class=\"audio\" >\n",
    "       <audio controls=\"\"><source src=\"../technics_mp3/serve/Williams/7/7.mp3\" type=\"audio/mpeg\">Your browser does not support the audio tag. </audio>\n",
    "            </span>\n",
    "  </div>\n",
    "  \n",
    " \n",
    "</div>"
   ]
  },
  {
   "cell_type": "code",
   "execution_count": 26,
   "metadata": {},
   "outputs": [
    {
     "data": {
      "text/html": [
       "<div class=\"flex-container flexframe\" >\n",
       "  <div class=\"iframe_div iframe_grow\">\n",
       "     <img src=\"../technics_gif/serve/Williams/7/31_1/image0001.png\" style=\"width:100%\">\n",
       "  </div>\n",
       "    <div class=\"iframe_div iframe_grow\">\n",
       "    <img src=\"../technics_gif/serve/Williams/7/31_1/image0008.png\" style=\"width:100%\">\n",
       "    </div>\n",
       "    <div class=\"iframe_div iframe_grow\">\n",
       "    <img src=\"../technics_gif/serve/Williams/7/31_1/insta.gif\" style=\"width:100%\">\n",
       "    </div>\n",
       "  <div  class=\"audio_div\">\n",
       "     <span class=\"audio\" >\n",
       "       <audio controls=\"\"><source src=\"../technics_mp3/serve/Williams/7/8.mp3\" type=\"audio/mpeg\">Your browser does not support the audio tag. </audio>\n",
       "            </span>\n",
       "  </div>\n",
       "  \n",
       " \n",
       "</div>"
      ],
      "text/plain": [
       "<IPython.core.display.HTML object>"
      ]
     },
     "metadata": {},
     "output_type": "display_data"
    }
   ],
   "source": [
    "%%html\n",
    "<div class=\"flex-container flexframe\" >\n",
    "  <div class=\"iframe_div iframe_grow\">\n",
    "     <img src=\"../technics_gif/serve/Williams/7/31_1/image0001.png\" style=\"width:100%\">\n",
    "  </div>\n",
    "    <div class=\"iframe_div iframe_grow\">\n",
    "    <img src=\"../technics_gif/serve/Williams/7/31_1/image0008.png\" style=\"width:100%\">\n",
    "    </div>\n",
    "    <div class=\"iframe_div iframe_grow\">\n",
    "    <img src=\"../technics_gif/serve/Williams/7/31_1/insta.gif\" style=\"width:100%\">\n",
    "    </div>\n",
    "  <div  class=\"audio_div\">\n",
    "     <span class=\"audio\" >\n",
    "       <audio controls=\"\"><source src=\"../technics_mp3/serve/Williams/7/8.mp3\" type=\"audio/mpeg\">Your browser does not support the audio tag. </audio>\n",
    "            </span>\n",
    "  </div>\n",
    "  \n",
    " \n",
    "</div>"
   ]
  },
  {
   "cell_type": "code",
   "execution_count": 27,
   "metadata": {},
   "outputs": [
    {
     "data": {
      "text/html": [
       "<div class=\"flex-container flexframe\" >\n",
       "  <div class=\"iframe_div iframe_grow\">\n",
       "     <img src=\"../technics_gif/serve/Williams/7/32_0.6/image0001.png\" style=\"width:100%\">\n",
       "  </div>\n",
       "    <div class=\"iframe_div iframe_grow\">\n",
       "    <img src=\"../technics_gif/serve/Williams/7/32_0.6/image0005.png\" style=\"width:100%\">\n",
       "    </div>\n",
       "    <div class=\"iframe_div iframe_grow\">\n",
       "    <img src=\"../technics_gif/serve/Williams/7/32_0.6/insta.gif\" style=\"width:100%\">\n",
       "    </div>\n",
       "  <div  class=\"audio_div\">\n",
       "     <span class=\"audio\" >\n",
       "       <audio controls=\"\"><source src=\"../technics_mp3/serve/Williams/7/9.mp3\" type=\"audio/mpeg\">Your browser does not support the audio tag. </audio>\n",
       "            </span>\n",
       "  </div>\n",
       "  \n",
       " \n",
       "</div>"
      ],
      "text/plain": [
       "<IPython.core.display.HTML object>"
      ]
     },
     "metadata": {},
     "output_type": "display_data"
    }
   ],
   "source": [
    "%%html\n",
    "<div class=\"flex-container flexframe\" >\n",
    "  <div class=\"iframe_div iframe_grow\">\n",
    "     <img src=\"../technics_gif/serve/Williams/7/32_0.6/image0001.png\" style=\"width:100%\">\n",
    "  </div>\n",
    "    <div class=\"iframe_div iframe_grow\">\n",
    "    <img src=\"../technics_gif/serve/Williams/7/32_0.6/image0005.png\" style=\"width:100%\">\n",
    "    </div>\n",
    "    <div class=\"iframe_div iframe_grow\">\n",
    "    <img src=\"../technics_gif/serve/Williams/7/32_0.6/insta.gif\" style=\"width:100%\">\n",
    "    </div>\n",
    "  <div  class=\"audio_div\">\n",
    "     <span class=\"audio\" >\n",
    "       <audio controls=\"\"><source src=\"../technics_mp3/serve/Williams/7/9.mp3\" type=\"audio/mpeg\">Your browser does not support the audio tag. </audio>\n",
    "            </span>\n",
    "  </div>\n",
    "  \n",
    " \n",
    "</div>"
   ]
  },
  {
   "cell_type": "code",
   "execution_count": 28,
   "metadata": {},
   "outputs": [
    {
     "data": {
      "text/html": [
       "<div class=\"flex-container flexframe\" >\n",
       "  <div class=\"iframe_div iframe_grow\">\n",
       "     <img src=\"../technics_gif/serve/Williams/7/32.6_0.6/image0001.png\" style=\"width:100%\">\n",
       "  </div>\n",
       "    <div class=\"iframe_div iframe_grow\">\n",
       "    <img src=\"../technics_gif/serve/Williams/7/32.6_0.6/image0005.png\" style=\"width:100%\">\n",
       "    </div>\n",
       "    <div class=\"iframe_div iframe_grow\">\n",
       "    <img src=\"../technics_gif/serve/Williams/7/32.6_0.6/insta.gif\" style=\"width:100%\">\n",
       "    </div>\n",
       "  <div  class=\"audio_div\">\n",
       "     <span class=\"audio\" >\n",
       "       <audio controls=\"\"><source src=\"../technics_mp3/serve/Williams/7/10.mp3\" type=\"audio/mpeg\">Your browser does not support the audio tag. </audio>\n",
       "            </span>\n",
       "  </div>\n",
       "  \n",
       " \n",
       "</div>"
      ],
      "text/plain": [
       "<IPython.core.display.HTML object>"
      ]
     },
     "metadata": {},
     "output_type": "display_data"
    }
   ],
   "source": [
    "%%html\n",
    "<div class=\"flex-container flexframe\" >\n",
    "  <div class=\"iframe_div iframe_grow\">\n",
    "     <img src=\"../technics_gif/serve/Williams/7/32.6_0.6/image0001.png\" style=\"width:100%\">\n",
    "  </div>\n",
    "    <div class=\"iframe_div iframe_grow\">\n",
    "    <img src=\"../technics_gif/serve/Williams/7/32.6_0.6/image0005.png\" style=\"width:100%\">\n",
    "    </div>\n",
    "    <div class=\"iframe_div iframe_grow\">\n",
    "    <img src=\"../technics_gif/serve/Williams/7/32.6_0.6/insta.gif\" style=\"width:100%\">\n",
    "    </div>\n",
    "  <div  class=\"audio_div\">\n",
    "     <span class=\"audio\" >\n",
    "       <audio controls=\"\"><source src=\"../technics_mp3/serve/Williams/7/10.mp3\" type=\"audio/mpeg\">Your browser does not support the audio tag. </audio>\n",
    "            </span>\n",
    "  </div>\n",
    "  \n",
    " \n",
    "</div>"
   ]
  },
  {
   "cell_type": "code",
   "execution_count": 29,
   "metadata": {},
   "outputs": [
    {
     "data": {
      "text/html": [
       "<div class=\"flex-container flexframe\" >\n",
       "  <div class=\"iframe_div iframe_grow\">\n",
       "     <img src=\"../technics_gif/serve/Williams/7/33_0.4/image0001.png\" style=\"width:100%\">\n",
       "  </div>\n",
       "    <div class=\"iframe_div iframe_grow\">\n",
       "    <img src=\"../technics_gif/serve/Williams/7/33_0.4/image0004.png\" style=\"width:100%\">\n",
       "    </div>\n",
       "    <div class=\"iframe_div iframe_grow\">\n",
       "    <img src=\"../technics_gif/serve/Williams/7/33_0.4/insta.gif\" style=\"width:100%\">\n",
       "    </div>\n",
       "  <div  class=\"audio_div\">\n",
       "     <span class=\"audio\" >\n",
       "       <audio controls=\"\"><source src=\"../technics_mp3/serve/Williams/7/11.mp3\" type=\"audio/mpeg\">Your browser does not support the audio tag. </audio>\n",
       "            </span>\n",
       "  </div>\n",
       "  \n",
       " \n",
       "</div>"
      ],
      "text/plain": [
       "<IPython.core.display.HTML object>"
      ]
     },
     "metadata": {},
     "output_type": "display_data"
    }
   ],
   "source": [
    "%%html\n",
    "<div class=\"flex-container flexframe\" >\n",
    "  <div class=\"iframe_div iframe_grow\">\n",
    "     <img src=\"../technics_gif/serve/Williams/7/33_0.4/image0001.png\" style=\"width:100%\">\n",
    "  </div>\n",
    "    <div class=\"iframe_div iframe_grow\">\n",
    "    <img src=\"../technics_gif/serve/Williams/7/33_0.4/image0004.png\" style=\"width:100%\">\n",
    "    </div>\n",
    "    <div class=\"iframe_div iframe_grow\">\n",
    "    <img src=\"../technics_gif/serve/Williams/7/33_0.4/insta.gif\" style=\"width:100%\">\n",
    "    </div>\n",
    "  <div  class=\"audio_div\">\n",
    "     <span class=\"audio\" >\n",
    "       <audio controls=\"\"><source src=\"../technics_mp3/serve/Williams/7/11.mp3\" type=\"audio/mpeg\">Your browser does not support the audio tag. </audio>\n",
    "            </span>\n",
    "  </div>\n",
    "  \n",
    " \n",
    "</div>"
   ]
  },
  {
   "cell_type": "code",
   "execution_count": 30,
   "metadata": {
    "scrolled": true
   },
   "outputs": [
    {
     "data": {
      "text/html": [
       "<div class=\"flex-container flexframe\" >\n",
       "  <div class=\"iframe_div iframe_grow\">\n",
       "     <img src=\"../technics_gif/serve/Williams/7/33_3/image0001.png\" style=\"width:100%\">\n",
       "  </div>\n",
       "    <div class=\"iframe_div iframe_grow\">\n",
       "    <img src=\"../technics_gif/serve/Williams/7/33_3/image0021.png\" style=\"width:100%\">\n",
       "    </div>\n",
       "    <div class=\"iframe_div iframe_grow\">\n",
       "    <img src=\"../technics_gif/serve/Williams/7/33_3/insta.gif\" style=\"width:100%\">\n",
       "    </div>\n",
       "  <div  class=\"audio_div\">\n",
       "     <span class=\"audio\" >\n",
       "       <audio controls=\"\"><source src=\"../technics_mp3/serve/Williams/7/12.mp3\" type=\"audio/mpeg\">Your browser does not support the audio tag. </audio>\n",
       "            </span>\n",
       "  </div>\n",
       "  \n",
       " \n",
       "</div>"
      ],
      "text/plain": [
       "<IPython.core.display.HTML object>"
      ]
     },
     "metadata": {},
     "output_type": "display_data"
    }
   ],
   "source": [
    "%%html\n",
    "<div class=\"flex-container flexframe\" >\n",
    "  <div class=\"iframe_div iframe_grow\">\n",
    "     <img src=\"../technics_gif/serve/Williams/7/33_3/image0001.png\" style=\"width:100%\">\n",
    "  </div>\n",
    "    <div class=\"iframe_div iframe_grow\">\n",
    "    <img src=\"../technics_gif/serve/Williams/7/33_3/image0021.png\" style=\"width:100%\">\n",
    "    </div>\n",
    "    <div class=\"iframe_div iframe_grow\">\n",
    "    <img src=\"../technics_gif/serve/Williams/7/33_3/insta.gif\" style=\"width:100%\">\n",
    "    </div>\n",
    "  <div  class=\"audio_div\">\n",
    "     <span class=\"audio\" >\n",
    "       <audio controls=\"\"><source src=\"../technics_mp3/serve/Williams/7/12.mp3\" type=\"audio/mpeg\">Your browser does not support the audio tag. </audio>\n",
    "            </span>\n",
    "  </div>\n",
    "  \n",
    " \n",
    "</div>"
   ]
  },
  {
   "cell_type": "code",
   "execution_count": 3,
   "metadata": {
    "tags": [
     "help"
    ]
   },
   "outputs": [
    {
     "data": {
      "text/html": [
       "<style>\n",
       ".flex-container {\n",
       "  display: flex;\n",
       "  align-items: stretch;\n",
       "  flex-wrap: wrap;\n",
       "}\n",
       ".flexframe {\n",
       "    align-items: center; \n",
       "    justify-content: center;\n",
       "    text-align: center;\n",
       "}\n",
       ".iframe_div{\n",
       "    width:400px; \n",
       "    margin: 10px;\n",
       "    padding: 8px;\n",
       "    box-shadow: 0 4px 8px 0 rgba(0, 0, 0, 0.2), 0 6px 20px 0 rgba(0, 0, 0, 0.19);\n",
       "    border: 1px solid #c1c2c3;\n",
       "}\n",
       ".iframe_grow{\n",
       "    flex-grow: 8; \n",
       "}\n",
       ".audio_div{\n",
       "    width:300px;   \n",
       "    align-self: center;\n",
       "    margin: 10px;\n",
       "}\n",
       "video {\n",
       "    width: 100%;\n",
       "    height: auto;\n",
       "}\n",
       "</style>\n",
       "</style>"
      ],
      "text/plain": [
       "<IPython.core.display.HTML object>"
      ]
     },
     "metadata": {},
     "output_type": "display_data"
    }
   ],
   "source": [
    "%%HTML\n",
    "<style>\n",
    ".flex-container {\n",
    "  display: flex;\n",
    "  align-items: stretch;\n",
    "  flex-wrap: wrap;\n",
    "}\n",
    ".flexframe {\n",
    "    align-items: center; \n",
    "    justify-content: center;\n",
    "    text-align: center;\n",
    "}\n",
    ".iframe_div{\n",
    "    width:400px; \n",
    "    margin: 10px;\n",
    "    padding: 8px;\n",
    "    box-shadow: 0 4px 8px 0 rgba(0, 0, 0, 0.2), 0 6px 20px 0 rgba(0, 0, 0, 0.19);\n",
    "    border: 1px solid #c1c2c3;\n",
    "}\n",
    ".iframe_grow{\n",
    "    flex-grow: 8; \n",
    "}\n",
    ".audio_div{\n",
    "    width:300px;   \n",
    "    align-self: center;\n",
    "    margin: 10px;\n",
    "}\n",
    "video {\n",
    "    width: 100%;\n",
    "    height: auto;\n",
    "}\n",
    "</style>\n",
    "</style>"
   ]
  }
 ],
 "metadata": {
  "celltoolbar": "Tags",
  "kernelspec": {
   "display_name": "Python 3",
   "language": "python",
   "name": "python3"
  },
  "language_info": {
   "codemirror_mode": {
    "name": "ipython",
    "version": 3
   },
   "file_extension": ".py",
   "mimetype": "text/x-python",
   "name": "python",
   "nbconvert_exporter": "python",
   "pygments_lexer": "ipython3",
   "version": "3.6.5"
  }
 },
 "nbformat": 4,
 "nbformat_minor": 2
}
