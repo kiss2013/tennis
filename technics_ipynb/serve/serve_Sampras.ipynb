{
 "cells": [
  {
   "cell_type": "markdown",
   "metadata": {},
   "source": [
    "###Подача Пита Сампраса. Вид \"Спина\""
   ]
  },
  {
   "cell_type": "markdown",
   "metadata": {},
   "source": [
    "Здесь видео и 5 фрагментов с анимациями и аудиокомментариями. Видео снято \"спереди справа\" (от игрока), а анимации сделаны из точки \"спина\". Надеюсь, что они дополняют друг друга.\n",
    "\n",
    "Здесь пробуем более \"крупные\" (от 2 до 4-х статичных кадров) фрагменты. Для того, чтобы искать отличия от подач Роджера Федерера (и Серены Уильямс) такой формат, надеюсь, удобнее.\n",
    "\n",
    "Как изменилась подача за последние 20 лет? Сампраса любят вспоминать тренеры. Может быть, потому, что в его подаче есть \"уникальный\" элемент (сгиб локтя после удара)? \n",
    "\n",
    "Автору удалось найти еще несколько особенностей в его подаче. Например, поворот торса сразу после подброса, ярко выраженый прогиб \"назад-вбок\" в позе \"трофи\", плавное движение правой руки без остановки (торможения) в позе \"трофи\"... "
   ]
  },
  {
   "cell_type": "markdown",
   "metadata": {},
   "source": [
    "*После публикации первых материалов я понял, что в аудиокомментарии \"биомеханика\" не помещается. Я хотел \"все и сразу\", а надо \"step by step\".* \n",
    "\n",
    "*Сначал надо запомнить каждое движение, (чтобы вспомнить на тренировке!)а уже потом строить модели, потому в аудио важные (с моей точки зрения) особенности поз и движений. Хотя, на самом деле, у меня уже есть \"скороспелые\" кинематические модели. И иногда они все же \"проскакивают\" в комментариях... И вопросы мне тоже нравится задавать... *"
   ]
  },
  {
   "cell_type": "markdown",
   "metadata": {},
   "source": [
    "*Напоминаю, что это первый рабочий вариант справочника по технике топ-игроков. В справочник будут входить медиафайлы с моими комментариями. Аудио (комментариии) пишутся \"за один проход\". Потому здесь сопенье, пошмыгивания и заикания. Эти материалы я планирую использовать, как черновики для последующих статей и стандартов ударов.*"
   ]
  },
  {
   "cell_type": "code",
   "execution_count": 19,
   "metadata": {
    "tags": [
     "help"
    ]
   },
   "outputs": [
    {
     "name": "stderr",
     "output_type": "stream",
     "text": [
      "[NbConvertApp] Converting notebook serve_Sampras.ipynb to html\n",
      "[NbConvertApp] Writing 262500 bytes to ../../technics_html/serve/serve_Sampras.html\n"
     ]
    }
   ],
   "source": [
    "!jupyter nbconvert --to html serve_Sampras.ipynb --output ../../technics_html/serve/serve_Sampras --template=../../_scripts_help/input_group_chinese_help.tpl"
   ]
  },
  {
   "cell_type": "markdown",
   "metadata": {},
   "source": [
    "####Видео - вид \"спереди-справа\""
   ]
  },
  {
   "cell_type": "code",
   "execution_count": 8,
   "metadata": {},
   "outputs": [
    {
     "data": {
      "text/html": [
       "<div class=\"flex-container flexframe\" >\n",
       "  <div class=\"iframe_div iframe_grow\">\n",
       "     <video width=\"400\" controls>\n",
       "       \n",
       "       <source src=\"../../technics_video/serve/Sampras/2/Sampras.mp4\" type=\"video/mp4\">\n",
       "     \n",
       "        Your browser does not support HTML5 video.\n",
       "     </video>\n",
       "  </div>\n",
       "\n",
       "</div>"
      ],
      "text/plain": [
       "<IPython.core.display.HTML object>"
      ]
     },
     "metadata": {},
     "output_type": "display_data"
    }
   ],
   "source": [
    "%%html\n",
    "<div class=\"flex-container flexframe\" >\n",
    "  <div class=\"iframe_div iframe_grow\">\n",
    "     <video width=\"400\" controls>\n",
    "       \n",
    "       <source src=\"../../technics_video/serve/Sampras/2/Sampras.mp4\" type=\"video/mp4\">\n",
    "     \n",
    "        Your browser does not support HTML5 video.\n",
    "     </video>\n",
    "  </div>\n",
    "\n",
    "</div>"
   ]
  },
  {
   "cell_type": "markdown",
   "metadata": {},
   "source": [
    "####Фрагмент 1"
   ]
  },
  {
   "cell_type": "code",
   "execution_count": 12,
   "metadata": {},
   "outputs": [
    {
     "data": {
      "text/html": [
       "<div class=\"flex-container flexframe\" >\n",
       "   <div class=\"iframe_div iframe_grow\">\n",
       "     <img src=\"../../technics_gif/serve/Sampras/11/0_3.6/image0001.png\" style=\"width:100%\">\n",
       "  </div>\n",
       "    <div class=\"iframe_div iframe_grow\">\n",
       "    <img src=\"../../technics_gif/serve/Sampras/11/0_3.6/image0020.png\" style=\"width:100%\">\n",
       "    </div>\n",
       "  <div class=\"iframe_div iframe_grow\">\n",
       "     <img src=\"../../technics_gif/serve/Sampras/11/0_3.6/image0028.png\" style=\"width:100%\">\n",
       "  </div>\n",
       "    <div class=\"iframe_div iframe_grow\">\n",
       "    <img src=\"../../technics_gif/serve/Sampras/11/0_3.6/image0038.png\" style=\"width:100%\">\n",
       "    </div>\n",
       "    <div class=\"iframe_div iframe_grow\">\n",
       "    <img src=\"../../technics_gif/serve/Sampras/11/0_3.6/insta40.gif\" style=\"width:100%\">\n",
       "    </div>\n",
       "  <div  class=\"audio_div\">\n",
       "     <span class=\"audio\" >\n",
       "       <audio controls=\"\"><source src=\"../../technics_mp3/serve/Sampras/11/1.mp3\" type=\"audio/mpeg\">Your browser does not support the audio tag. </audio>\n",
       "            </span>\n",
       "  </div>\n",
       "  \n",
       " \n",
       "</div>"
      ],
      "text/plain": [
       "<IPython.core.display.HTML object>"
      ]
     },
     "metadata": {},
     "output_type": "display_data"
    }
   ],
   "source": [
    "%%html\n",
    "<div class=\"flex-container flexframe\" >\n",
    "   <div class=\"iframe_div iframe_grow\">\n",
    "     <img src=\"../../technics_gif/serve/Sampras/11/0_3.6/image0001.png\" style=\"width:100%\">\n",
    "  </div>\n",
    "    <div class=\"iframe_div iframe_grow\">\n",
    "    <img src=\"../../technics_gif/serve/Sampras/11/0_3.6/image0020.png\" style=\"width:100%\">\n",
    "    </div>\n",
    "  <div class=\"iframe_div iframe_grow\">\n",
    "     <img src=\"../../technics_gif/serve/Sampras/11/0_3.6/image0028.png\" style=\"width:100%\">\n",
    "  </div>\n",
    "    <div class=\"iframe_div iframe_grow\">\n",
    "    <img src=\"../../technics_gif/serve/Sampras/11/0_3.6/image0038.png\" style=\"width:100%\">\n",
    "    </div>\n",
    "    <div class=\"iframe_div iframe_grow\">\n",
    "    <img src=\"../../technics_gif/serve/Sampras/11/0_3.6/insta40.gif\" style=\"width:100%\">\n",
    "    </div>\n",
    "  <div  class=\"audio_div\">\n",
    "     <span class=\"audio\" >\n",
    "       <audio controls=\"\"><source src=\"../../technics_mp3/serve/Sampras/11/1.mp3\" type=\"audio/mpeg\">Your browser does not support the audio tag. </audio>\n",
    "            </span>\n",
    "  </div>\n",
    "  \n",
    " \n",
    "</div>"
   ]
  },
  {
   "cell_type": "markdown",
   "metadata": {},
   "source": [
    "####Фрагмент 2"
   ]
  },
  {
   "cell_type": "code",
   "execution_count": 13,
   "metadata": {},
   "outputs": [
    {
     "data": {
      "text/html": [
       "<div class=\"flex-container flexframe\" >\n",
       "   \n",
       "  <div class=\"iframe_div iframe_grow\">\n",
       "     <img src=\"../../technics_gif/serve/Sampras/11/3.4_1.4/image0001.png\" style=\"width:100%\">\n",
       "  </div>\n",
       "    <div class=\"iframe_div iframe_grow\">\n",
       "    <img src=\"../../technics_gif/serve/Sampras/11/3.4_1.4/image0016.png\" style=\"width:100%\">\n",
       "    </div>\n",
       "    <div class=\"iframe_div iframe_grow\">\n",
       "    <img src=\"../../technics_gif/serve/Sampras/11/3.4_1.4/insta40.gif\" style=\"width:100%\">\n",
       "    </div>\n",
       "  <div  class=\"audio_div\">\n",
       "     <span class=\"audio\" >\n",
       "       <audio controls=\"\"><source src=\"../../technics_mp3/serve/Sampras/11/2.mp3\" type=\"audio/mpeg\">Your browser does not support the audio tag. </audio>\n",
       "            </span>\n",
       "  </div>\n",
       "  \n",
       " \n",
       "</div>"
      ],
      "text/plain": [
       "<IPython.core.display.HTML object>"
      ]
     },
     "metadata": {},
     "output_type": "display_data"
    }
   ],
   "source": [
    "%%html\n",
    "<div class=\"flex-container flexframe\" >\n",
    "   \n",
    "  <div class=\"iframe_div iframe_grow\">\n",
    "     <img src=\"../../technics_gif/serve/Sampras/11/3.4_1.4/image0001.png\" style=\"width:100%\">\n",
    "  </div>\n",
    "    <div class=\"iframe_div iframe_grow\">\n",
    "    <img src=\"../../technics_gif/serve/Sampras/11/3.4_1.4/image0016.png\" style=\"width:100%\">\n",
    "    </div>\n",
    "    <div class=\"iframe_div iframe_grow\">\n",
    "    <img src=\"../../technics_gif/serve/Sampras/11/3.4_1.4/insta40.gif\" style=\"width:100%\">\n",
    "    </div>\n",
    "  <div  class=\"audio_div\">\n",
    "     <span class=\"audio\" >\n",
    "       <audio controls=\"\"><source src=\"../../technics_mp3/serve/Sampras/11/2.mp3\" type=\"audio/mpeg\">Your browser does not support the audio tag. </audio>\n",
    "            </span>\n",
    "  </div>\n",
    "  \n",
    " \n",
    "</div>"
   ]
  },
  {
   "cell_type": "markdown",
   "metadata": {},
   "source": [
    "####Фрагмент 3"
   ]
  },
  {
   "cell_type": "code",
   "execution_count": 18,
   "metadata": {
    "scrolled": true
   },
   "outputs": [
    {
     "data": {
      "text/html": [
       "<div class=\"flex-container flexframe\" >\n",
       "   \n",
       "  <div class=\"iframe_div iframe_grow\">\n",
       "     <img src=\"../../technics_gif/serve/Sampras/11/4.8_1/image0001.png\" style=\"width:100%\">\n",
       "  </div>\n",
       "    <div class=\"iframe_div iframe_grow\">\n",
       "    <img src=\"../../technics_gif/serve/Sampras/11/4.8_1/image0006.png\" style=\"width:100%\">\n",
       "    </div>\n",
       "    <div class=\"iframe_div iframe_grow\">\n",
       "    <img src=\"../../technics_gif/serve/Sampras/11/4.8_1/image0012.png\" style=\"width:100%\">\n",
       "    </div>\n",
       "    <div class=\"iframe_div iframe_grow\">\n",
       "    <img src=\"../../technics_gif/serve/Sampras/11/4.8_1/insta40.gif\" style=\"width:100%\">\n",
       "    </div>\n",
       "  <div  class=\"audio_div\">\n",
       "     <span class=\"audio\" >\n",
       "       <audio controls=\"\"><source src=\"../../technics_mp3/serve/Sampras/11/3.mp3\" type=\"audio/mpeg\">Your browser does not support the audio tag. </audio>\n",
       "            </span>\n",
       "  </div>\n",
       "  \n",
       " \n",
       "</div>"
      ],
      "text/plain": [
       "<IPython.core.display.HTML object>"
      ]
     },
     "metadata": {},
     "output_type": "display_data"
    }
   ],
   "source": [
    "%%html\n",
    "<div class=\"flex-container flexframe\" >\n",
    "   \n",
    "  <div class=\"iframe_div iframe_grow\">\n",
    "     <img src=\"../../technics_gif/serve/Sampras/11/4.8_1/image0001.png\" style=\"width:100%\">\n",
    "  </div>\n",
    "    <div class=\"iframe_div iframe_grow\">\n",
    "    <img src=\"../../technics_gif/serve/Sampras/11/4.8_1/image0006.png\" style=\"width:100%\">\n",
    "    </div>\n",
    "    <div class=\"iframe_div iframe_grow\">\n",
    "    <img src=\"../../technics_gif/serve/Sampras/11/4.8_1/image0012.png\" style=\"width:100%\">\n",
    "    </div>\n",
    "    <div class=\"iframe_div iframe_grow\">\n",
    "    <img src=\"../../technics_gif/serve/Sampras/11/4.8_1/insta40.gif\" style=\"width:100%\">\n",
    "    </div>\n",
    "  <div  class=\"audio_div\">\n",
    "     <span class=\"audio\" >\n",
    "       <audio controls=\"\"><source src=\"../../technics_mp3/serve/Sampras/11/3.mp3\" type=\"audio/mpeg\">Your browser does not support the audio tag. </audio>\n",
    "            </span>\n",
    "  </div>\n",
    "  \n",
    " \n",
    "</div>"
   ]
  },
  {
   "cell_type": "markdown",
   "metadata": {},
   "source": [
    "####Фрагмент 4"
   ]
  },
  {
   "cell_type": "code",
   "execution_count": 14,
   "metadata": {},
   "outputs": [
    {
     "data": {
      "text/html": [
       "<div class=\"flex-container flexframe\" >\n",
       "   \n",
       "  <div class=\"iframe_div iframe_grow\">\n",
       "     <img src=\"../../technics_gif/serve/Sampras/11/5.8_0.7/image0001.png\" style=\"width:100%\">\n",
       "  </div>\n",
       "    <div class=\"iframe_div iframe_grow\">\n",
       "    <img src=\"../../technics_gif/serve/Sampras/11/5.8_0.7/image0007.png\" style=\"width:100%\">\n",
       "    </div>\n",
       "    <div class=\"iframe_div iframe_grow\">\n",
       "    <img src=\"../../technics_gif/serve/Sampras/11/5.8_0.7/image0009.png\" style=\"width:100%\">\n",
       "    </div>\n",
       "    <div class=\"iframe_div iframe_grow\">\n",
       "    <img src=\"../../technics_gif/serve/Sampras/11/5.8_0.7/insta40.gif\" style=\"width:100%\">\n",
       "    </div>\n",
       "  <div  class=\"audio_div\">\n",
       "     <span class=\"audio\" >\n",
       "       <audio controls=\"\"><source src=\"../../technics_mp3/serve/Sampras/11/4.mp3\" type=\"audio/mpeg\">Your browser does not support the audio tag. </audio>\n",
       "            </span>\n",
       "  </div>\n",
       "  \n",
       " \n",
       "</div>"
      ],
      "text/plain": [
       "<IPython.core.display.HTML object>"
      ]
     },
     "metadata": {},
     "output_type": "display_data"
    }
   ],
   "source": [
    "%%html\n",
    "<div class=\"flex-container flexframe\" >\n",
    "   \n",
    "  <div class=\"iframe_div iframe_grow\">\n",
    "     <img src=\"../../technics_gif/serve/Sampras/11/5.8_0.7/image0001.png\" style=\"width:100%\">\n",
    "  </div>\n",
    "    <div class=\"iframe_div iframe_grow\">\n",
    "    <img src=\"../../technics_gif/serve/Sampras/11/5.8_0.7/image0007.png\" style=\"width:100%\">\n",
    "    </div>\n",
    "    <div class=\"iframe_div iframe_grow\">\n",
    "    <img src=\"../../technics_gif/serve/Sampras/11/5.8_0.7/image0009.png\" style=\"width:100%\">\n",
    "    </div>\n",
    "    <div class=\"iframe_div iframe_grow\">\n",
    "    <img src=\"../../technics_gif/serve/Sampras/11/5.8_0.7/insta40.gif\" style=\"width:100%\">\n",
    "    </div>\n",
    "  <div  class=\"audio_div\">\n",
    "     <span class=\"audio\" >\n",
    "       <audio controls=\"\"><source src=\"../../technics_mp3/serve/Sampras/11/4.mp3\" type=\"audio/mpeg\">Your browser does not support the audio tag. </audio>\n",
    "            </span>\n",
    "  </div>\n",
    "  \n",
    " \n",
    "</div>"
   ]
  },
  {
   "cell_type": "markdown",
   "metadata": {},
   "source": [
    "####Фрагмент 5"
   ]
  },
  {
   "cell_type": "code",
   "execution_count": 17,
   "metadata": {},
   "outputs": [
    {
     "data": {
      "text/html": [
       "<div class=\"flex-container flexframe\" >\n",
       "   \n",
       "  <div class=\"iframe_div iframe_grow\">\n",
       "     <img src=\"../../technics_gif/serve/Sampras/11/6.5_0.9/image0001.png\" style=\"width:100%\">\n",
       "  </div>\n",
       "    <div class=\"iframe_div iframe_grow\">\n",
       "    <img src=\"../../technics_gif/serve/Sampras/11/6.5_0.9/image0004.png\" style=\"width:100%\">\n",
       "    </div>\n",
       "    <div class=\"iframe_div iframe_grow\">\n",
       "     <img src=\"../../technics_gif/serve/Sampras/11/6.5_0.9/image0005.png\" style=\"width:100%\">\n",
       "  </div>\n",
       "    <div class=\"iframe_div iframe_grow\">\n",
       "    <img src=\"../../technics_gif/serve/Sampras/11/6.5_0.9/image0006.png\" style=\"width:100%\">\n",
       "    </div>\n",
       "    <div class=\"iframe_div iframe_grow\">\n",
       "    <img src=\"../../technics_gif/serve/Sampras/11/6.5_0.9/image0011.png\" style=\"width:100%\">\n",
       "    </div>\n",
       "    <div class=\"iframe_div iframe_grow\">\n",
       "    <img src=\"../../technics_gif/serve/Sampras/11/6.5_0.9/insta40.gif\" style=\"width:100%\">\n",
       "    </div>\n",
       "  <div  class=\"audio_div\">\n",
       "     <span class=\"audio\" >\n",
       "       <audio controls=\"\"><source src=\"../../technics_mp3/serve/Sampras/11/5.mp3\" type=\"audio/mpeg\">Your browser does not support the audio tag. </audio>\n",
       "            </span>\n",
       "  </div>\n",
       "  \n",
       " \n",
       "</div>"
      ],
      "text/plain": [
       "<IPython.core.display.HTML object>"
      ]
     },
     "metadata": {},
     "output_type": "display_data"
    }
   ],
   "source": [
    "%%html\n",
    "<div class=\"flex-container flexframe\" >\n",
    "   \n",
    "  <div class=\"iframe_div iframe_grow\">\n",
    "     <img src=\"../../technics_gif/serve/Sampras/11/6.5_0.9/image0001.png\" style=\"width:100%\">\n",
    "  </div>\n",
    "    <div class=\"iframe_div iframe_grow\">\n",
    "    <img src=\"../../technics_gif/serve/Sampras/11/6.5_0.9/image0004.png\" style=\"width:100%\">\n",
    "    </div>\n",
    "    <div class=\"iframe_div iframe_grow\">\n",
    "     <img src=\"../../technics_gif/serve/Sampras/11/6.5_0.9/image0005.png\" style=\"width:100%\">\n",
    "  </div>\n",
    "    <div class=\"iframe_div iframe_grow\">\n",
    "    <img src=\"../../technics_gif/serve/Sampras/11/6.5_0.9/image0006.png\" style=\"width:100%\">\n",
    "    </div>\n",
    "    <div class=\"iframe_div iframe_grow\">\n",
    "    <img src=\"../../technics_gif/serve/Sampras/11/6.5_0.9/image0011.png\" style=\"width:100%\">\n",
    "    </div>\n",
    "    <div class=\"iframe_div iframe_grow\">\n",
    "    <img src=\"../../technics_gif/serve/Sampras/11/6.5_0.9/insta40.gif\" style=\"width:100%\">\n",
    "    </div>\n",
    "  <div  class=\"audio_div\">\n",
    "     <span class=\"audio\" >\n",
    "       <audio controls=\"\"><source src=\"../../technics_mp3/serve/Sampras/11/5.mp3\" type=\"audio/mpeg\">Your browser does not support the audio tag. </audio>\n",
    "            </span>\n",
    "  </div>\n",
    "  \n",
    " \n",
    "</div>"
   ]
  },
  {
   "cell_type": "code",
   "execution_count": 7,
   "metadata": {},
   "outputs": [
    {
     "data": {
      "text/html": [
       "<style>\n",
       ".flex-container {\n",
       "  display: flex;\n",
       "  align-items: stretch;\n",
       "  flex-wrap: wrap;\n",
       "}\n",
       ".flexframe {\n",
       "    align-items: center; \n",
       "    justify-content: center;\n",
       "    text-align: center;\n",
       "}\n",
       ".iframe_div{\n",
       "    width:400px; \n",
       "    margin: 10px;\n",
       "    padding: 8px;\n",
       "    box-shadow: 0 4px 8px 0 rgba(0, 0, 0, 0.2), 0 6px 20px 0 rgba(0, 0, 0, 0.19);\n",
       "    border: 1px solid #c1c2c3;\n",
       "}\n",
       ".iframe_grow{\n",
       "    flex-grow: 8; \n",
       "}\n",
       ".audio_div{\n",
       "    width:300px;   \n",
       "    align-self: center;\n",
       "    margin: 10px;\n",
       "}\n",
       "video {\n",
       "    width: 100%;\n",
       "    height: auto;\n",
       "}\n",
       "</style>"
      ],
      "text/plain": [
       "<IPython.core.display.HTML object>"
      ]
     },
     "metadata": {},
     "output_type": "display_data"
    }
   ],
   "source": [
    "%%HTML\n",
    "<style>\n",
    ".flex-container {\n",
    "  display: flex;\n",
    "  align-items: stretch;\n",
    "  flex-wrap: wrap;\n",
    "}\n",
    ".flexframe {\n",
    "    align-items: center; \n",
    "    justify-content: center;\n",
    "    text-align: center;\n",
    "}\n",
    ".iframe_div{\n",
    "    width:400px; \n",
    "    margin: 10px;\n",
    "    padding: 8px;\n",
    "    box-shadow: 0 4px 8px 0 rgba(0, 0, 0, 0.2), 0 6px 20px 0 rgba(0, 0, 0, 0.19);\n",
    "    border: 1px solid #c1c2c3;\n",
    "}\n",
    ".iframe_grow{\n",
    "    flex-grow: 8; \n",
    "}\n",
    ".audio_div{\n",
    "    width:300px;   \n",
    "    align-self: center;\n",
    "    margin: 10px;\n",
    "}\n",
    "video {\n",
    "    width: 100%;\n",
    "    height: auto;\n",
    "}\n",
    "</style>\n"
   ]
  }
 ],
 "metadata": {
  "celltoolbar": "Tags",
  "kernelspec": {
   "display_name": "Python 3",
   "language": "python",
   "name": "python3"
  },
  "language_info": {
   "codemirror_mode": {
    "name": "ipython",
    "version": 3
   },
   "file_extension": ".py",
   "mimetype": "text/x-python",
   "name": "python",
   "nbconvert_exporter": "python",
   "pygments_lexer": "ipython3",
   "version": "3.6.5"
  }
 },
 "nbformat": 4,
 "nbformat_minor": 2
}
