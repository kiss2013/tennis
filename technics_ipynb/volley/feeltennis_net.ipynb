{
 "cells": [
  {
   "cell_type": "code",
   "execution_count": null,
   "metadata": {},
   "outputs": [],
   "source": []
  },
  {
   "cell_type": "code",
   "execution_count": null,
   "metadata": {},
   "outputs": [],
   "source": []
  },
  {
   "cell_type": "markdown",
   "metadata": {},
   "source": [
    "[How To Hit A Tennis Volley ](https://www.feeltennis.net/how-to-hit-tennis-volley/)- Tip For More Feel\n",
    "<br/>[](https://www.feeltennis.net/develop-good-hands-volley/) The usual punch volley is useful only in situations where you are receiving a relatively slow and high ball while you are close to the net.\n",
    "<br/>[]()\n",
    "<br/>[]()\n",
    "<br/>[]()\n",
    "<br/>[]()\n",
    "<br/>[]()\n",
    "<br/>[]()\n",
    "<br/>[]()"
   ]
  }
 ],
 "metadata": {
  "kernelspec": {
   "display_name": "Python 3",
   "language": "python",
   "name": "python3"
  },
  "language_info": {
   "codemirror_mode": {
    "name": "ipython",
    "version": 3
   },
   "file_extension": ".py",
   "mimetype": "text/x-python",
   "name": "python",
   "nbconvert_exporter": "python",
   "pygments_lexer": "ipython3",
   "version": "3.6.5"
  }
 },
 "nbformat": 4,
 "nbformat_minor": 2
}
